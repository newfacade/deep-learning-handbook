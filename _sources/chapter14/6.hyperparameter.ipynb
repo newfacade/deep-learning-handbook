{
 "cells": [
  {
   "cell_type": "markdown",
   "metadata": {},
   "source": [
    "# 调参\n",
    "\n",
    "```{note}\n",
    "利用回调函数，我们可以很方便地实现诸如EarlyStopping、模型自动保存之类的功能。<br/>\n",
    "使用TensorBoard可以让我们更加直观地了解训练过程。<br/>\n",
    "sklearn中的RandomizedSearchCV也可以用在tensorflow的调参中。\n",
    "```"
   ]
  },
  {
   "cell_type": "markdown",
   "metadata": {},
   "source": [
    "## 回调函数\n",
    "\n",
    "回调函数默认在每个epoch之后被调用。"
   ]
  },
  {
   "cell_type": "code",
   "execution_count": 1,
   "metadata": {},
   "outputs": [],
   "source": [
    "from tensorflow import keras\n",
    "import utils\n",
    "\n",
    "# 获得模型和数据\n",
    "model = keras.models.load_model(\"my_california_housing_model\")\n",
    "(X_train, y_train), (X_val, y_val), (X_test, y_test) = utils.load_california_housing()"
   ]
  },
  {
   "cell_type": "code",
   "execution_count": 2,
   "metadata": {},
   "outputs": [
    {
     "name": "stdout",
     "output_type": "stream",
     "text": [
      "Epoch 1/3\n",
      "363/363 [==============================] - 1s 656us/step - loss: 0.3341\n",
      "INFO:tensorflow:Assets written to: my_callback_housing/assets\n",
      "Epoch 2/3\n",
      "363/363 [==============================] - 0s 640us/step - loss: 0.3284\n",
      "INFO:tensorflow:Assets written to: my_callback_housing/assets\n",
      "Epoch 3/3\n",
      "363/363 [==============================] - 0s 641us/step - loss: 0.3274\n",
      "INFO:tensorflow:Assets written to: my_callback_housing/assets\n"
     ]
    }
   ],
   "source": [
    "# 每个epoch后都会保存模型\n",
    "checkpoint_cb = keras.callbacks.ModelCheckpoint(\"my_callback_housing\")\n",
    "# 在训练处定义回调函数\n",
    "history = model.fit(X_train, y_train, epochs=3,\n",
    "                    callbacks=[checkpoint_cb])"
   ]
  },
  {
   "cell_type": "code",
   "execution_count": 3,
   "metadata": {},
   "outputs": [],
   "source": [
    "# save_best_only=True: 只保存在验证集中表现最好的模型\n",
    "checkpoint_cb = keras.callbacks.ModelCheckpoint(\"my_callback_housing\", save_best_only=True)"
   ]
  },
  {
   "cell_type": "code",
   "execution_count": 4,
   "metadata": {},
   "outputs": [],
   "source": [
    "# EearlyStopping: patient个epoch之后指标还没有改进则停止训练，默认指标为`val_loss`\n",
    "# restore_best_weights=True: 训练停止后保存指标最佳的epoch的参数\n",
    "early_stopping_cb = keras.callbacks.EarlyStopping(patience=10, restore_best_weights=True)"
   ]
  },
  {
   "cell_type": "markdown",
   "metadata": {},
   "source": [
    "## TensorBoard"
   ]
  },
  {
   "cell_type": "code",
   "execution_count": 5,
   "metadata": {},
   "outputs": [
    {
     "name": "stdout",
     "output_type": "stream",
     "text": [
      "Epoch 1/5\n",
      "363/363 [==============================] - 0s 1ms/step - loss: 0.3175 - val_loss: 0.3151\n",
      "Epoch 2/5\n",
      "363/363 [==============================] - 0s 792us/step - loss: 0.3135 - val_loss: 0.3323\n",
      "Epoch 3/5\n",
      "363/363 [==============================] - 0s 798us/step - loss: 0.3180 - val_loss: 0.3134\n",
      "Epoch 4/5\n",
      "363/363 [==============================] - 0s 799us/step - loss: 0.3169 - val_loss: 0.3199\n",
      "Epoch 5/5\n",
      "363/363 [==============================] - 0s 799us/step - loss: 0.3103 - val_loss: 0.3031\n"
     ]
    }
   ],
   "source": [
    "# 记录信息的地址\n",
    "run_logdir = \"tensorboard_log\"\n",
    "# TensorBoard回调函数，需指定记录信息的地址\n",
    "tensorboard_cb = keras.callbacks.TensorBoard(run_logdir)\n",
    "history = model.fit(X_train, y_train, epochs=5,\n",
    "                    validation_data=(X_val, y_val),\n",
    "                    callbacks=[tensorboard_cb])"
   ]
  },
  {
   "cell_type": "markdown",
   "metadata": {},
   "source": [
    "运行以下语句后, 就可以在 http://localhost:6006/ 中查看TensorBoard了\n",
    "\n",
    "```shell\n",
    "tensorboard --logdir=./tensorboard_log --port=6006\n",
    "```"
   ]
  },
  {
   "cell_type": "markdown",
   "metadata": {},
   "source": [
    "## 调参\n",
    "\n",
    "### 1.创建一个函数，参数为需要调的超参数，返回相应的模型"
   ]
  },
  {
   "cell_type": "code",
   "execution_count": 6,
   "metadata": {},
   "outputs": [],
   "source": [
    "def build_model(n_hidden=1, n_neurons=30, learning_rate=3e-3, input_shape=[8]):\n",
    "    model = keras.models.Sequential()\n",
    "    model.add(keras.layers.InputLayer(input_shape=input_shape))\n",
    "    # n_hidden和n_neurons在此时起作用\n",
    "    for layer in range(n_hidden):\n",
    "        model.add(keras.layers.Dense(n_neurons, activation=\"relu\"))\n",
    "    model.add(keras.layers.Dense(1))\n",
    "    # 学习率\n",
    "    optimizer = keras.optimizers.SGD(learning_rate=learning_rate)\n",
    "    model.compile(loss=\"mse\", optimizer=optimizer)\n",
    "    return model\n",
    "\n",
    "\n",
    "# wrapper之后就可以使用sklearn类型的api啦\n",
    "keras_reg = keras.wrappers.scikit_learn.KerasRegressor(build_model)"
   ]
  },
  {
   "cell_type": "markdown",
   "metadata": {},
   "source": [
    "### 2.定义RandomizedSearchCV对象并训练"
   ]
  },
  {
   "cell_type": "code",
   "execution_count": 7,
   "metadata": {},
   "outputs": [
    {
     "name": "stdout",
     "output_type": "stream",
     "text": [
      "Epoch 1/3\n",
      "242/242 [==============================] - 0s 1ms/step - loss: 0.8797 - val_loss: 0.5377\n",
      "Epoch 2/3\n",
      "242/242 [==============================] - 0s 778us/step - loss: 0.4876 - val_loss: 0.4484\n",
      "Epoch 3/3\n",
      "242/242 [==============================] - 0s 734us/step - loss: 0.4327 - val_loss: 0.4137\n",
      "121/121 [==============================] - 0s 430us/step - loss: 0.3995\n",
      "Epoch 1/3\n",
      "242/242 [==============================] - 0s 986us/step - loss: 1.0059 - val_loss: 0.5978\n",
      "Epoch 2/3\n",
      "242/242 [==============================] - 0s 759us/step - loss: 0.5425 - val_loss: 0.5288\n",
      "Epoch 3/3\n",
      "242/242 [==============================] - 0s 729us/step - loss: 0.4734 - val_loss: 0.4738\n",
      "121/121 [==============================] - 0s 426us/step - loss: 0.4922\n",
      "Epoch 1/3\n",
      "242/242 [==============================] - 0s 1ms/step - loss: 0.8062 - val_loss: 0.5525\n",
      "Epoch 2/3\n",
      "242/242 [==============================] - 0s 732us/step - loss: 0.5010 - val_loss: 0.4674\n",
      "Epoch 3/3\n",
      "242/242 [==============================] - 0s 747us/step - loss: 0.4572 - val_loss: 0.4449\n",
      "121/121 [==============================] - 0s 435us/step - loss: 0.4346\n",
      "Epoch 1/3\n",
      "242/242 [==============================] - 0s 970us/step - loss: 0.8407 - val_loss: 0.4824\n",
      "Epoch 2/3\n",
      "242/242 [==============================] - 0s 765us/step - loss: 0.4548 - val_loss: 0.4436\n",
      "Epoch 3/3\n",
      "242/242 [==============================] - 0s 748us/step - loss: 0.4368 - val_loss: 0.4355\n",
      "121/121 [==============================] - 0s 433us/step - loss: 0.4140\n",
      "Epoch 1/3\n",
      "242/242 [==============================] - 0s 1ms/step - loss: 1.1115 - val_loss: 0.6556\n",
      "Epoch 2/3\n",
      "242/242 [==============================] - 0s 740us/step - loss: 0.5744 - val_loss: 0.5627\n",
      "Epoch 3/3\n",
      "242/242 [==============================] - 0s 740us/step - loss: 0.5023 - val_loss: 0.5028\n",
      "121/121 [==============================] - 0s 439us/step - loss: 0.5117\n",
      "Epoch 1/3\n",
      "242/242 [==============================] - 0s 1ms/step - loss: 0.7560 - val_loss: 0.5341\n",
      "Epoch 2/3\n",
      "242/242 [==============================] - 0s 760us/step - loss: 0.5063 - val_loss: 0.4830\n",
      "Epoch 3/3\n",
      "242/242 [==============================] - 0s 748us/step - loss: 0.4593 - val_loss: 0.4382\n",
      "121/121 [==============================] - 0s 435us/step - loss: 0.4241\n",
      "Epoch 1/3\n",
      "363/363 [==============================] - 1s 870us/step - loss: 0.7060 - val_loss: 0.5281\n",
      "Epoch 2/3\n",
      "363/363 [==============================] - 0s 660us/step - loss: 0.4717 - val_loss: 0.4481\n",
      "Epoch 3/3\n",
      "363/363 [==============================] - 0s 672us/step - loss: 0.5252 - val_loss: 0.4190\n"
     ]
    },
    {
     "data": {
      "text/plain": [
       "RandomizedSearchCV(cv=3,\n",
       "                   estimator=<keras.wrappers.scikit_learn.KerasRegressor object at 0x7ff612374580>,\n",
       "                   n_iter=2,\n",
       "                   param_distributions={'learning_rate': [0.01977815536482554,\n",
       "                                                          0.005777126678456366,\n",
       "                                                          0.00509614216000481,\n",
       "                                                          0.0007066002665498963,\n",
       "                                                          0.013545852545882942],\n",
       "                                        'n_hidden': [1, 2],\n",
       "                                        'n_neurons': [10, 20, 30]})"
      ]
     },
     "execution_count": 7,
     "metadata": {},
     "output_type": "execute_result"
    }
   ],
   "source": [
    "from scipy.stats import reciprocal\n",
    "from sklearn.model_selection import RandomizedSearchCV\n",
    "\n",
    "# 候选超参数\n",
    "param_distribs = {\n",
    "    \"n_hidden\": [1, 2],\n",
    "    \"n_neurons\": [10, 20, 30],\n",
    "    \"learning_rate\": reciprocal(3e-4, 3e-2).rvs(5).tolist(),\n",
    "}\n",
    "\n",
    "# 对参数采样2次，3-折交叉验证，找参数需训练2*3=6次，最后再在最佳参数上全量训练一次\n",
    "rnd_search_cv = RandomizedSearchCV(keras_reg, param_distribs, n_iter=2, cv=3, verbose=0)\n",
    "# 训练\n",
    "rnd_search_cv.fit(X_train, y_train, epochs=3,\n",
    "                  validation_data=(X_val, y_val),\n",
    "                  callbacks=[keras.callbacks.EarlyStopping(patience=2)])"
   ]
  },
  {
   "cell_type": "markdown",
   "metadata": {},
   "source": [
    "### 3.获取最佳参数和最佳模型"
   ]
  },
  {
   "cell_type": "code",
   "execution_count": 8,
   "metadata": {},
   "outputs": [
    {
     "data": {
      "text/plain": [
       "{'n_neurons': 20, 'n_hidden': 2, 'learning_rate': 0.013545852545882942}"
      ]
     },
     "execution_count": 8,
     "metadata": {},
     "output_type": "execute_result"
    }
   ],
   "source": [
    "# 最佳参数\n",
    "rnd_search_cv.best_params_"
   ]
  },
  {
   "cell_type": "code",
   "execution_count": 9,
   "metadata": {},
   "outputs": [
    {
     "name": "stdout",
     "output_type": "stream",
     "text": [
      "162/162 [==============================] - 0s 433us/step - loss: 0.4789\n"
     ]
    },
    {
     "data": {
      "text/plain": [
       "0.4788932502269745"
      ]
     },
     "execution_count": 9,
     "metadata": {},
     "output_type": "execute_result"
    }
   ],
   "source": [
    "# 最佳模型\n",
    "model = rnd_search_cv.best_estimator_.model\n",
    "model.evaluate(X_test, y_test)"
   ]
  },
  {
   "cell_type": "code",
   "execution_count": null,
   "metadata": {},
   "outputs": [],
   "source": []
  }
 ],
 "metadata": {
  "kernelspec": {
   "display_name": "Python 3",
   "language": "python",
   "name": "python3"
  },
  "language_info": {
   "codemirror_mode": {
    "name": "ipython",
    "version": 3
   },
   "file_extension": ".py",
   "mimetype": "text/x-python",
   "name": "python",
   "nbconvert_exporter": "python",
   "pygments_lexer": "ipython3",
   "version": "3.8.3"
  }
 },
 "nbformat": 4,
 "nbformat_minor": 4
}

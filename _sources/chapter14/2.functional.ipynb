{
 "cells": [
  {
   "cell_type": "markdown",
   "metadata": {},
   "source": [
    "# Keras函数式API\n",
    "\n",
    "```{note}\n",
    "如果模型本身就不是顺序的，那么就不能使用顺序API，可以选择使用函数式API。<br/>\n",
    "本节我们使用加州房价数据集训练一个回归模型来演示keras函数式API的使用。\n",
    "```"
   ]
  },
  {
   "cell_type": "markdown",
   "metadata": {},
   "source": [
    "## 加州房价数据集"
   ]
  },
  {
   "cell_type": "code",
   "execution_count": 1,
   "metadata": {},
   "outputs": [
    {
     "data": {
      "text/plain": [
       "((11610, 8), (11610,))"
      ]
     },
     "execution_count": 1,
     "metadata": {},
     "output_type": "execute_result"
    }
   ],
   "source": [
    "from sklearn.datasets import fetch_california_housing\n",
    "from sklearn.model_selection import train_test_split\n",
    "from sklearn.preprocessing import StandardScaler\n",
    "\n",
    "\n",
    "#@save\n",
    "def load_california_housing():\n",
    "    \"\"\"\n",
    "    载入加州房价数据集\n",
    "    输入8维，输出为房价\n",
    "    \"\"\"\n",
    "    # 使用sklearn.datasets载入数据\n",
    "    housing = fetch_california_housing()\n",
    "    # 分割为训练集、验证集、测试集\n",
    "    X_train_val, X_test, y_train_val, y_test = train_test_split(housing.data, housing.target)\n",
    "    X_train, X_val, y_train, y_val = train_test_split(X_train_val, y_train_val)\n",
    "    # 标准化\n",
    "    std = StandardScaler()\n",
    "    # 以训练集为基准进行标准化\n",
    "    X_train = std.fit_transform(X_train)\n",
    "    X_val = std.transform(X_val)\n",
    "    X_test = std.transform(X_test)\n",
    "    return (X_train, y_train), (X_val, y_val), (X_test, y_test)\n",
    "\n",
    "\n",
    "(X_train, y_train), (X_val, y_val), (X_test, y_test) = load_california_housing()\n",
    "# 查看shape\n",
    "X_train.shape, y_train.shape"
   ]
  },
  {
   "cell_type": "markdown",
   "metadata": {},
   "source": [
    "## 定义模型"
   ]
  },
  {
   "cell_type": "code",
   "execution_count": 2,
   "metadata": {},
   "outputs": [],
   "source": [
    "from tensorflow import keras\n",
    "\n",
    "\n",
    "# Input层需指定shape，类似于Flatten层需指定input_shape\n",
    "input_ = keras.layers.Input(shape=X_train.shape[1:])\n",
    "# 函数式API: output = layer(input)\n",
    "hidden1 = keras.layers.Dense(30, activation=\"relu\")(input_)\n",
    "hidden2 = keras.layers.Dense(30, activation=\"relu\")(hidden1)\n",
    "# 这里输入不仅有hidden2还有input_，因此不是顺序模型\n",
    "concat = keras.layers.Concatenate()([input_, hidden2])\n",
    "output = keras.layers.Dense(1)(concat)\n",
    "# 最后指定模型的输入和输出即可\n",
    "model = keras.Model(inputs=[input_], outputs=[output])"
   ]
  },
  {
   "cell_type": "code",
   "execution_count": 3,
   "metadata": {},
   "outputs": [
    {
     "name": "stdout",
     "output_type": "stream",
     "text": [
      "Model: \"model\"\n",
      "__________________________________________________________________________________________________\n",
      "Layer (type)                    Output Shape         Param #     Connected to                     \n",
      "==================================================================================================\n",
      "input_1 (InputLayer)            [(None, 8)]          0                                            \n",
      "__________________________________________________________________________________________________\n",
      "dense (Dense)                   (None, 30)           270         input_1[0][0]                    \n",
      "__________________________________________________________________________________________________\n",
      "dense_1 (Dense)                 (None, 30)           930         dense[0][0]                      \n",
      "__________________________________________________________________________________________________\n",
      "concatenate (Concatenate)       (None, 38)           0           input_1[0][0]                    \n",
      "                                                                 dense_1[0][0]                    \n",
      "__________________________________________________________________________________________________\n",
      "dense_2 (Dense)                 (None, 1)            39          concatenate[0][0]                \n",
      "==================================================================================================\n",
      "Total params: 1,239\n",
      "Trainable params: 1,239\n",
      "Non-trainable params: 0\n",
      "__________________________________________________________________________________________________\n"
     ]
    }
   ],
   "source": [
    "model.summary()"
   ]
  },
  {
   "cell_type": "code",
   "execution_count": 4,
   "metadata": {},
   "outputs": [
    {
     "data": {
      "image/png": "[encoded data removed]",
      "text/plain": [
       "<IPython.core.display.Image object>"
      ]
     },
     "execution_count": 4,
     "metadata": {},
     "output_type": "execute_result"
    }
   ],
   "source": [
    "# 图形化展示模型\n",
    "# 需安装pydot, graphviz\n",
    "keras.utils.plot_model(model)"
   ]
  },
  {
   "cell_type": "markdown",
   "metadata": {},
   "source": [
    "## 获取模型参数\n",
    "\n",
    "开一个支线，简单演示一下获取keras模型参数的方法。"
   ]
  },
  {
   "cell_type": "code",
   "execution_count": 5,
   "metadata": {},
   "outputs": [
    {
     "data": {
      "text/plain": [
       "[<keras.engine.input_layer.InputLayer at 0x7fe1407fe9a0>,\n",
       " <keras.layers.core.Dense at 0x7fe1407fea90>,\n",
       " <keras.layers.core.Dense at 0x7fe12889d220>,\n",
       " <keras.layers.merge.Concatenate at 0x7fe12889d700>,\n",
       " <keras.layers.core.Dense at 0x7fe1289252b0>]"
      ]
     },
     "execution_count": 5,
     "metadata": {},
     "output_type": "execute_result"
    }
   ],
   "source": [
    "# 模型各层\n",
    "model.layers"
   ]
  },
  {
   "cell_type": "code",
   "execution_count": 6,
   "metadata": {},
   "outputs": [
    {
     "data": {
      "text/plain": [
       "((8, 30), (30,))"
      ]
     },
     "execution_count": 6,
     "metadata": {},
     "output_type": "execute_result"
    }
   ],
   "source": [
    "# 获取其中一层\n",
    "hidden1 = model.layers[1]\n",
    "# 获取参数\n",
    "weights, biases = hidden1.get_weights()\n",
    "weights.shape, biases.shape"
   ]
  },
  {
   "cell_type": "markdown",
   "metadata": {},
   "source": [
    "## 训练"
   ]
  },
  {
   "cell_type": "code",
   "execution_count": 7,
   "metadata": {},
   "outputs": [],
   "source": [
    "# 编译\n",
    "# 因为是回归模型，所以使用均方误差\n",
    "model.compile(loss=\"mse\",\n",
    "              # 在优化器中指定学习率\n",
    "              optimizer=keras.optimizers.Adam(learning_rate=0.001))"
   ]
  },
  {
   "cell_type": "code",
   "execution_count": 8,
   "metadata": {},
   "outputs": [
    {
     "name": "stdout",
     "output_type": "stream",
     "text": [
      "Epoch 1/10\n",
      "363/363 [==============================] - 1s 1ms/step - loss: 1.0701 - val_loss: 0.9041\n",
      "Epoch 2/10\n",
      "363/363 [==============================] - 0s 768us/step - loss: 0.4653 - val_loss: 0.6863\n",
      "Epoch 3/10\n",
      "363/363 [==============================] - 0s 755us/step - loss: 0.4226 - val_loss: 0.9916\n",
      "Epoch 4/10\n",
      "363/363 [==============================] - 0s 782us/step - loss: 0.3989 - val_loss: 0.9223\n",
      "Epoch 5/10\n",
      "363/363 [==============================] - 0s 768us/step - loss: 0.3992 - val_loss: 0.6446\n",
      "Epoch 6/10\n",
      "363/363 [==============================] - 0s 770us/step - loss: 0.3742 - val_loss: 0.3592\n",
      "Epoch 7/10\n",
      "363/363 [==============================] - 0s 777us/step - loss: 0.3546 - val_loss: 0.4163\n",
      "Epoch 8/10\n",
      "363/363 [==============================] - 0s 779us/step - loss: 0.3460 - val_loss: 0.3627\n",
      "Epoch 9/10\n",
      "363/363 [==============================] - 0s 757us/step - loss: 0.3418 - val_loss: 0.7494\n",
      "Epoch 10/10\n",
      "363/363 [==============================] - 0s 764us/step - loss: 0.3547 - val_loss: 0.8993\n"
     ]
    },
    {
     "data": {
      "text/plain": [
       "<keras.callbacks.History at 0x7fe12968aeb0>"
      ]
     },
     "execution_count": 8,
     "metadata": {},
     "output_type": "execute_result"
    }
   ],
   "source": [
    "# 训练\n",
    "model.fit(X_train, y_train, \n",
    "          epochs=10, \n",
    "          validation_data=(X_val, y_val))"
   ]
  },
  {
   "cell_type": "code",
   "execution_count": 9,
   "metadata": {},
   "outputs": [
    {
     "name": "stdout",
     "output_type": "stream",
     "text": [
      "INFO:tensorflow:Assets written to: my_california_housing_model/assets\n"
     ]
    }
   ],
   "source": [
    "# 保存模型\n",
    "model.save(\"my_california_housing_model\")"
   ]
  }
 ],
 "metadata": {
  "kernelspec": {
   "display_name": "Python 3",
   "language": "python",
   "name": "python3"
  },
  "language_info": {
   "codemirror_mode": {
    "name": "ipython",
    "version": 3
   },
   "file_extension": ".py",
   "mimetype": "text/x-python",
   "name": "python",
   "nbconvert_exporter": "python",
   "pygments_lexer": "ipython3",
   "version": "3.8.3"
  }
 },
 "nbformat": 4,
 "nbformat_minor": 4
}

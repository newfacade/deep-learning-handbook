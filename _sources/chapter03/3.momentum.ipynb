{
 "cells": [
  {
   "cell_type": "markdown",
   "metadata": {},
   "source": [
    "# 动量法\n",
    "\n",
    "recall 小批量随机梯度下降：\n",
    "\n",
    "$$\\mathbf{g}_{t} = \\frac{1}{|\\mathcal{B}_{t}|}\\sum_{i\\in\\mathcal{B}_{t}}\\nabla{f_{i}(\\mathbf{x}_{t-1})}$$\n",
    "\n",
    "$$\\mathbf{x}_{t} = \\mathbf{x}_{t-1} - \\eta\\mathbf{g}_{t}$$\n",
    "\n",
    "方向只依赖于当前的梯度，我们希望能看得更远，这时我们可以使用动量法（momentum）:\n",
    "\n",
    "$$\\mathbf{v}_{t} = \\beta\\mathbf{v}_{t-1} + \\mathbf{g}_{t}$$\n",
    "\n",
    "$$\\mathbf{x}_{t} = \\mathbf{x}_{t-1} - \\eta\\mathbf{v}_{t}$$\n",
    "\n",
    "其中 $\\beta \\in (0, 1)$\n",
    "\n",
    "这就像从山上滚石头，速度 $\\mathbf{v}_{t}$ 的方向不仅依赖于当前的坡度 $\\mathbf{g}_{t}$，还依赖于之前的速度 $\\mathbf{v}_{t-1}$。 \n",
    "\n",
    "目的是将石头滚到最低点，动量法可以借助之前的速度冲出梯度平缓的区域。"
   ]
  },
  {
   "cell_type": "code",
   "execution_count": 1,
   "metadata": {},
   "outputs": [],
   "source": [
    "import torch\n",
    "from torch import nn\n",
    "\n",
    "net = nn.Sequential(nn.Linear(784, 10))\n",
    "# 在pytorch中，动量可直接在SGD中定义\n",
    "optimizer = torch.optim.SGD(net.parameters(), lr=0.1, momentum=0.9)"
   ]
  },
  {
   "cell_type": "code",
   "execution_count": null,
   "metadata": {},
   "outputs": [],
   "source": []
  }
 ],
 "metadata": {
  "kernelspec": {
   "display_name": "Python 3",
   "language": "python",
   "name": "python3"
  },
  "language_info": {
   "codemirror_mode": {
    "name": "ipython",
    "version": 3
   },
   "file_extension": ".py",
   "mimetype": "text/x-python",
   "name": "python",
   "nbconvert_exporter": "python",
   "pygments_lexer": "ipython3",
   "version": "3.8.3"
  }
 },
 "nbformat": 4,
 "nbformat_minor": 4
}

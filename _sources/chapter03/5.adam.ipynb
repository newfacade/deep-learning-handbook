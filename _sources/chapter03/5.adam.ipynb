{
 "cells": [
  {
   "cell_type": "markdown",
   "metadata": {},
   "source": [
    "# Adam\n",
    "\n",
    "```{note}\n",
    "Adam = 动量法 + RMSprop <br/>\n",
    "也就是说，方向看梯度的 moving average，大小看梯度平方的 moving average\n",
    "```\n",
    "\n",
    "Adam 需记录梯度和梯度平方的 moving average：\n",
    "\n",
    "$$\\mathbf{v}_{t} = \\beta_{1}\\mathbf{v}_{t-1} + (1 - \\beta_{1})\\mathbf{g}_{t}$$\n",
    "\n",
    "$$\\mathbf{s}_{t} = \\beta_{2}\\mathbf{s}_{t-1} + (1 - \\beta_{2})\\mathbf{g}_{t}^{2}$$\n",
    "\n",
    "权重归一化:\n",
    "\n",
    "$$\\hat{\\mathbf{v}}_{t} = \\frac{\\mathbf{v}_{t}}{1 - \\beta_{1}^{t}}$$\n",
    "\n",
    "$$\\hat{\\mathbf{s}}_{t} = \\frac{\\mathbf{s}_{t}}{1 - \\beta_{2}^{t}}$$\n",
    "\n",
    "最后, update using both states:\n",
    "\n",
    "$$\\mathbf{x}_{t} = \\mathbf{x}_{t-1} - \\frac{\\eta}{\\sqrt{\\hat{\\mathbf{s}}_{t}} + \\epsilon}\\odot\\hat{\\mathbf{v}}_{t}$$"
   ]
  },
  {
   "cell_type": "code",
   "execution_count": 1,
   "metadata": {},
   "outputs": [],
   "source": [
    "import torch\n",
    "from torch import nn\n",
    "\n",
    "net = nn.Sequential(nn.Linear(784, 10))\n",
    "# pytorch中的Adam，betas=(beta1, beta2)\n",
    "optimizer = torch.optim.Adam(net.parameters(), lr=0.01, betas=(0.9, 0.999))"
   ]
  },
  {
   "cell_type": "code",
   "execution_count": null,
   "metadata": {},
   "outputs": [],
   "source": []
  }
 ],
 "metadata": {
  "kernelspec": {
   "display_name": "Python 3",
   "language": "python",
   "name": "python3"
  },
  "language_info": {
   "codemirror_mode": {
    "name": "ipython",
    "version": 3
   },
   "file_extension": ".py",
   "mimetype": "text/x-python",
   "name": "python",
   "nbconvert_exporter": "python",
   "pygments_lexer": "ipython3",
   "version": "3.8.3"
  }
 },
 "nbformat": 4,
 "nbformat_minor": 4
}

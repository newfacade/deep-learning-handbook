{
 "cells": [
  {
   "cell_type": "markdown",
   "metadata": {},
   "source": [
    "# 学习率调度器\n",
    "\n",
    "```{note}\n",
    "到现在为止，我们都在关注优化算法，其实调整学习率和优化算法同样重要<br/>\n",
    "一般如果想调参数，第一个就是学习率\n",
    "```"
   ]
  },
  {
   "cell_type": "markdown",
   "metadata": {},
   "source": [
    "## 为什么需要调整学习率\n",
    "\n",
    "1. 学习率大小很重要\n",
    "2. 学习率应当适当衰减，不然最后可能一直在最小值附近波动而不收敛\n",
    "3. 刚开始的时候学习率不宜过大，因为一开始参数是随机的，也就是学习率最好要有一个warmup阶段"
   ]
  },
  {
   "cell_type": "markdown",
   "metadata": {},
   "source": [
    "## 常见的学习率调度器"
   ]
  },
  {
   "cell_type": "code",
   "execution_count": 1,
   "metadata": {},
   "outputs": [],
   "source": [
    "from torch import nn\n",
    "from torch.optim import lr_scheduler, Adam\n",
    "\n",
    "# 先定义一个toy model及其对应的optimizer\n",
    "net = nn.Sequential(\n",
    "    nn.Linear(784, 100), nn.ELU(),\n",
    "    nn.Linear(100, 10))\n",
    "optimizer = Adam(net.parameters(), lr=0.05)"
   ]
  },
  {
   "cell_type": "markdown",
   "metadata": {},
   "source": [
    "### 阶梯型 StepLR"
   ]
  },
  {
   "cell_type": "code",
   "execution_count": 2,
   "metadata": {},
   "outputs": [],
   "source": [
    "# 调度器是用来装饰optimizer的\n",
    "# 每隔step_size个epoch，学习率乘以gamma\n",
    "# lr = 0.05     if epoch < 30\n",
    "# lr = 0.005    if 30 <= epoch < 60\n",
    "# lr = 0.0005   if 60 <= epoch < 90\n",
    "scheduler = lr_scheduler.StepLR(optimizer, step_size=30, gamma=0.1)"
   ]
  },
  {
   "cell_type": "markdown",
   "metadata": {},
   "source": [
    "调度器使用的方式：\n",
    "\n",
    "```python\n",
    "for epoch in range(10):\n",
    "    train(...)\n",
    "    val_loss = validate(...)\n",
    "    scheduler.step()\n",
    "```"
   ]
  },
  {
   "cell_type": "markdown",
   "metadata": {},
   "source": [
    "### 指数衰减 ExponentialLR\n",
    "\n",
    "$$\n",
    "\\mathrm{lr} = \\mathrm{lr}\\_{\\mathrm{init}} * \\gamma^{epoch}\n",
    "$$"
   ]
  },
  {
   "cell_type": "code",
   "execution_count": 3,
   "metadata": {},
   "outputs": [],
   "source": [
    "scheduler = lr_scheduler.ExponentialLR(optimizer, gamma=0.9)"
   ]
  },
  {
   "cell_type": "markdown",
   "metadata": {},
   "source": [
    "### 自适应学习率 ReduceLROnPlateau\n",
    "\n",
    "当某项指标不再变化时，调整学习率，这是非常实用的策略\n",
    "\n",
    "比如说 loss 不再下降时调整学习率；或者 accuracy 不再上升时调整学习率"
   ]
  },
  {
   "cell_type": "code",
   "execution_count": 4,
   "metadata": {},
   "outputs": [],
   "source": [
    "# mode: min对应越低越好的指标如loss，max对应越高越好的指标如accuracy\n",
    "# factor: 每次调整为：lr = lr * factor\n",
    "# patience: number of epochs with no improvement after which learning rate will be reduced\n",
    "# cooldown: 每次调整后经过多少个epoch再重启监测\n",
    "# min_lr: 最小学习率\n",
    "# step时需指定指标，比如说 plateau_scheduler.step(val_loss)\n",
    "plateau_sheduler = lr_scheduler.ReduceLROnPlateau(optimizer, \n",
    "                                           mode='min', \n",
    "                                           factor=0.2,\n",
    "                                           patience=5,\n",
    "                                           cooldown=3,\n",
    "                                           min_lr=1e-3)"
   ]
  },
  {
   "cell_type": "markdown",
   "metadata": {},
   "source": [
    "```{note}\n",
    "还有其它的调度器如先warmup后衰减的OneCycleLR、周期性升高降低的CycleLR、自定义调度器LambdaLR<br/>\n",
    "还没太搞明白，先这样吧^_^\n",
    "```"
   ]
  },
  {
   "cell_type": "code",
   "execution_count": null,
   "metadata": {},
   "outputs": [],
   "source": []
  }
 ],
 "metadata": {
  "kernelspec": {
   "display_name": "Python 3",
   "language": "python",
   "name": "python3"
  },
  "language_info": {
   "codemirror_mode": {
    "name": "ipython",
    "version": 3
   },
   "file_extension": ".py",
   "mimetype": "text/x-python",
   "name": "python",
   "nbconvert_exporter": "python",
   "pygments_lexer": "ipython3",
   "version": "3.8.3"
  }
 },
 "nbformat": 4,
 "nbformat_minor": 4
}

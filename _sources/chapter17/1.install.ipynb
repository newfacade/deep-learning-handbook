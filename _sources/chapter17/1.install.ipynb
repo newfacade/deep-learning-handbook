{
 "cells": [
  {
   "cell_type": "markdown",
   "metadata": {},
   "source": [
    "# 启动TensorFlow Serving\n",
    "\n",
    "```{note}\n",
    "一旦有了一个可以做出惊人预测的漂亮模型，下一步就是要把它投入到生成环境。<br/>\n",
    "这种情况下，把模型包装在Web服务中是最合理的，因为任何人有需要时请求服务就行了，而且实现了解耦。<br/>\n",
    "TensorFlow Serving可以帮助我们把模型包装成Web服务。\n",
    "```"
   ]
  },
  {
   "cell_type": "markdown",
   "metadata": {},
   "source": [
    "## 准备好模型"
   ]
  },
  {
   "cell_type": "code",
   "execution_count": 1,
   "metadata": {},
   "outputs": [],
   "source": [
    "from tensorflow import keras\n",
    "\n",
    "# 假设它是我们训练好的模型\n",
    "model = keras.models.load_model(\"my_mnist_model\")"
   ]
  },
  {
   "cell_type": "code",
   "execution_count": 2,
   "metadata": {},
   "outputs": [
    {
     "name": "stdout",
     "output_type": "stream",
     "text": [
      "INFO:tensorflow:Assets written to: serve_mnist/0001/assets\n"
     ]
    }
   ],
   "source": [
    "import os\n",
    "import tensorflow as tf\n",
    "\n",
    "model_version = \"0001\"\n",
    "model_name = \"serve_mnist\"\n",
    "model_path = os.path.join(model_name, model_version)\n",
    "# 这样有版本的模型就保存好啦\n",
    "tf.saved_model.save(model, model_path)"
   ]
  },
  {
   "cell_type": "markdown",
   "metadata": {},
   "source": [
    "```{warning}\n",
    "TF Serving使用的模型必须要有版本\n",
    "```"
   ]
  },
  {
   "cell_type": "markdown",
   "metadata": {},
   "source": [
    "## 安装\n",
    "\n",
    "有很多方法可以安装TF Serving，最推荐的是使用Docker镜像。\n",
    "\n",
    "首先需要安装Docker，然后下载官方的TF Serving Docker镜像：\n",
    "\n",
    "```shell\n",
    "docker pull tensorflow/serving\n",
    "```"
   ]
  },
  {
   "cell_type": "markdown",
   "metadata": {},
   "source": [
    "## 启动"
   ]
  },
  {
   "cell_type": "markdown",
   "metadata": {},
   "source": [
    "下载好镜像后，就可以创建一个Docker容器来运行该镜像\n",
    "\n",
    "```shell\n",
    "docker run -it --rm -p 8500:8500 -p 8501:8501 \\\n",
    "           -v \"/Users/facer/PycharmProjects/recommender-system-tools/serve_mnist:/models/serve_mnist\" \\\n",
    "           -e MODEL_NAME=serve_mnist \\\n",
    "           tensorflow/serving\n",
    "```\n",
    "\n",
    "TF Serving就此运行，它加载了我们的MNIST模型。\n",
    "\n",
    "它可以通过REST API（端口8501）提供服务，REST API是使用标准HTTP动词（如GET、POST、PUT和DELETE）并使用JSON输入和输出的API。\n",
    "\n",
    "它也可以通过gRPC（端口8500）提供服务，gRPC更复杂但效率跟高。\n",
    "\n",
    "-it 使容器具有交互性（因此可以通过按住Ctrl-C停止它）并显示服务器的输出。\n",
    "\n",
    "-rm 停止容器时将其删除（不会使中断的容器搞乱机器），但是它不会删除镜像。\n",
    "\n",
    "-v 使主机目录/Users/facer/...可用于容器的路径/models/serve_mnist。"
   ]
  },
  {
   "cell_type": "code",
   "execution_count": 3,
   "metadata": {},
   "outputs": [
    {
     "name": "stdout",
     "output_type": "stream",
     "text": [
      "/Users/facer/PycharmProjects/recommender-system-tools\r\n"
     ]
    }
   ],
   "source": [
    "# 可以看出主机目录就是主机上模型的绝对路径\n",
    "!pwd"
   ]
  },
  {
   "cell_type": "markdown",
   "metadata": {},
   "source": [
    "-e 设置容器的MODEL_NAME环境变量。\n",
    "\n",
    "tensorflow/serving 这是要运行的镜像的名称。"
   ]
  }
 ],
 "metadata": {
  "kernelspec": {
   "display_name": "Python 3",
   "language": "python",
   "name": "python3"
  },
  "language_info": {
   "codemirror_mode": {
    "name": "ipython",
    "version": 3
   },
   "file_extension": ".py",
   "mimetype": "text/x-python",
   "name": "python",
   "nbconvert_exporter": "python",
   "pygments_lexer": "ipython3",
   "version": "3.8.3"
  }
 },
 "nbformat": 4,
 "nbformat_minor": 4
}

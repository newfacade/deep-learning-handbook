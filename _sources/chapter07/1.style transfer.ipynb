{
 "cells": [
  {
   "cell_type": "markdown",
   "metadata": {},
   "source": [
    "# 样式迁移\n",
    "\n",
    "```{note}\n",
    "样式迁移需要两张输入图像，一张是内容图像，一张样式图像，我们将使用神经网络修改内容图像，使其在样式上接近样式图像。\n",
    "```\n",
    "\n",
    "![image](../images/e/style-transfer.svg)"
   ]
  },
  {
   "cell_type": "markdown",
   "metadata": {},
   "source": [
    "## 方法\n",
    "\n",
    "首先，初始化合成图像，例如将其初始化为内容图像。该合成图像是样式迁移中唯一需要更新的变量，即模型的参数。\n",
    "\n",
    "然后，我们选择一个预训练的卷积神经网络来抽取图像的特征，其中的模型参数在训练中无须更新。\n",
    "\n",
    "下图中第二层输出内容特征，第一层和第三层输出样式特征。\n",
    "\n",
    "接下来，通过正向传播（实线箭头）计算样式迁移的损失函数，并通过反向传播（虚线箭头）迭代模型参数，即不断更新合成图。\n",
    "\n",
    "样式迁移的损失函数由三部分组成：1.内容损失，2.样式损失，3.有助于减少合成图中噪点的总变差损失。\n",
    "\n",
    "![image](../images/e/neural-style.svg)"
   ]
  },
  {
   "cell_type": "code",
   "execution_count": null,
   "metadata": {},
   "outputs": [],
   "source": []
  }
 ],
 "metadata": {
  "kernelspec": {
   "display_name": "Python 3",
   "language": "python",
   "name": "python3"
  },
  "language_info": {
   "codemirror_mode": {
    "name": "ipython",
    "version": 3
   },
   "file_extension": ".py",
   "mimetype": "text/x-python",
   "name": "python",
   "nbconvert_exporter": "python",
   "pygments_lexer": "ipython3",
   "version": "3.8.3"
  }
 },
 "nbformat": 4,
 "nbformat_minor": 4
}

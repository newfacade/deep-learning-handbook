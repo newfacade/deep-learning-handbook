{
 "cells": [
  {
   "cell_type": "markdown",
   "metadata": {},
   "source": [
    "# Batch Normalization\n",
    "\n",
    "```{note}\n",
    "同正则化、Dropout一样，Batch Normalization（BN）也是一种处理深度神经网络过拟合的方法<br/>\n",
    "Batch Normalization可以加速网络收敛，让我们能够训练更深的网络\n",
    "```"
   ]
  },
  {
   "cell_type": "markdown",
   "metadata": {},
   "source": [
    "## Intuition\n",
    "\n",
    "回想第一节我们用线性回归预测Boston房价时，第一步是标准化输入特征，类似地，神经网络也需要标准化输入特征，其实不仅是输入层，中间各层也需要标准化\n",
    "\n",
    "此外更深层的网络非常复杂容易过拟合，这就有正则的需求\n",
    "\n",
    "Batch Normalization其实就是按批进行标准化，再统一拉伸和偏移：\n",
    "\n",
    "$$\\mathrm{BN}(\\mathbf{x}) = \\boldsymbol{\\gamma}\\odot\\frac{\\mathbf{x} - \\hat{\\boldsymbol{\\mu}}_{\\mathcal{B}}}{\\hat{\\boldsymbol{\\sigma}}_{\\mathcal{B}}} + \\boldsymbol{\\beta}$$\n",
    "\n",
    "其中 $\\hat{\\boldsymbol{\\mu}}_{\\mathcal{B}}$ 和 $\\hat{\\boldsymbol{\\sigma}}_{\\mathcal{B}}$ 分别是小批量 $\\mathcal{B}$ 的均值和标准差；拉伸参数 $\\boldsymbol{\\gamma}$ 和偏移参数 $\\boldsymbol{\\beta}$ 和 $\\mathbf{x}$ 的形状相同，是模型需要学习的参数。\n",
    "\n",
    "均值和标准差的计算公式如下：\n",
    "\n",
    "$$\\hat{\\boldsymbol{\\mu}}_{\\mathcal{B}} = \\frac{1}{|\\mathcal{B}|}\\sum_{x\\in{\\mathcal{B}}}\\mathbf{x}$$\n",
    "\n",
    "$$\\hat{\\boldsymbol{\\sigma}}_{\\mathcal{B}}^{2} = \\frac{1}{|\\mathcal{B}|}\\sum_{x\\in{\\mathcal{B}}}(\\mathbf{x} - \\hat{\\boldsymbol{\\mu}}_{\\mathcal{B}})^{2} + \\boldsymbol{\\epsilon}$$"
   ]
  },
  {
   "cell_type": "markdown",
   "metadata": {},
   "source": [
    "## Pytorch中的Batch Normalization"
   ]
  },
  {
   "cell_type": "code",
   "execution_count": 1,
   "metadata": {},
   "outputs": [],
   "source": [
    "from torch import nn\n",
    "\n",
    "net = nn.Sequential(\n",
    "    # BN一般在全连接层之后，激活函数之前，需指定输入的维度\n",
    "    # CNN也有其对应的BN层即BatchNorm2d，后面会讲\n",
    "    nn.Linear(784, 100), nn.BatchNorm1d(100), nn.ReLU(),\n",
    "    nn.Linear(100, 64), nn.BatchNorm1d(64), nn.ReLU(),\n",
    "    nn.Linear(64, 10))"
   ]
  },
  {
   "cell_type": "markdown",
   "metadata": {},
   "source": [
    "```{warning}\n",
    "Batch Normalization和Dropout一起使用的话 1+1 < 1，所以不要一起使用，二者选其一就行<br/>\n",
    "Batch Normalization也有正则的效果，所以一般不和正则化一起使用\n",
    "```"
   ]
  },
  {
   "cell_type": "code",
   "execution_count": null,
   "metadata": {},
   "outputs": [],
   "source": []
  }
 ],
 "metadata": {
  "kernelspec": {
   "display_name": "Python 3",
   "language": "python",
   "name": "python3"
  },
  "language_info": {
   "codemirror_mode": {
    "name": "ipython",
    "version": 3
   },
   "file_extension": ".py",
   "mimetype": "text/x-python",
   "name": "python",
   "nbconvert_exporter": "python",
   "pygments_lexer": "ipython3",
   "version": "3.8.3"
  }
 },
 "nbformat": 4,
 "nbformat_minor": 4
}

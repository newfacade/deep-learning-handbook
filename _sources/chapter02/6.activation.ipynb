{
 "cells": [
  {
   "cell_type": "markdown",
   "metadata": {},
   "source": [
    "# 激活函数\n",
    "\n",
    "```{note}\n",
    "激活函数负责将非线性特性加入到我们的神经网络中<br/>\n",
    "对于深层网络，梯度消失和梯度爆炸是常见的问题<br/>\n",
    "选择合适的激活函数可以抑制梯度消失和梯度爆炸，加速训练\n",
    "```"
   ]
  },
  {
   "cell_type": "markdown",
   "metadata": {},
   "source": [
    "## 梯度消失和梯度爆炸\n",
    "\n",
    "反向传播中梯度的递推公式：\n",
    "\n",
    "$$\\frac{\\partial L}{\\partial \\mathbf{z}^{[l]}} = (\\mathbf{W}^{[l+1]})^{T}\\frac{\\partial L}{\\partial \\mathbf{z}^{[l+1]}} \\odot {g^{[l]}}'(\\mathbf{z}^{[l]})$$\n",
    "\n",
    "梯度是层层相乘的关系。\n",
    "\n",
    "若相乘系数的绝对值普遍小于1，那么很多层之后便会出现梯度消失\n",
    "\n",
    "若相乘系数的绝对值普遍大于1，那么很多层之后便会出现梯度爆炸\n",
    "\n",
    "上面的公式中会乘以激活函数的导数，因此激活函数的导数的绝对值不能过小或者过大。"
   ]
  },
  {
   "cell_type": "markdown",
   "metadata": {},
   "source": [
    "## 常见的激活函数\n",
    "\n",
    "### Sigmoid\n",
    "\n",
    "以前的default，绝对值大的点的导数趋于0，因此用它的话容易出现梯度消失\n",
    "\n",
    "$$\\mbox{Sigmoid}(x) = \\frac{1}{1 + e^{-x}}$$\n",
    "\n",
    "```{image} ../images/b/sigmoid.png\n",
    ":alt: relu\n",
    ":width: 500px\n",
    ":align: center\n",
    "```"
   ]
  },
  {
   "cell_type": "markdown",
   "metadata": {},
   "source": [
    "### Tanh\n",
    "\n",
    "还是容易梯度消失\n",
    "\n",
    "$$\\mbox{Tanh}(x) = \\frac{1 - e^{-2x}}{1 + e^{-2x}}$$\n",
    "\n",
    "```{image} ../images/b/tanh.png\n",
    ":alt: relu\n",
    ":width: 500px\n",
    ":align: center\n",
    "```"
   ]
  },
  {
   "cell_type": "markdown",
   "metadata": {},
   "source": [
    "### ReLU\n",
    "\n",
    "可以抑制梯度消失和梯度爆炸，梯度也很容易计算，是现在的default\n",
    "\n",
    "$$\n",
    "\\mbox{ReLU}(x) = \n",
    "\\begin{cases}\n",
    "x\\quad&\\text{if}\\ {x > 0}\\\\\n",
    "0&\\text{if}\\ {x\\le0}\n",
    "\\end{cases}\n",
    "$$\n",
    "\n",
    "```{image} ../images/b/relu.png\n",
    ":alt: relu\n",
    ":width: 500px\n",
    ":align: center\n",
    "```"
   ]
  },
  {
   "cell_type": "markdown",
   "metadata": {},
   "source": [
    "### LeakyReLU\n",
    "\n",
    "ReLU的变种\n",
    "\n",
    "$$\n",
    "\\mbox{LeakyReLU} = \n",
    "\\begin{cases}\n",
    "x\\quad&\\text{if}\\ {x > 0}\\\\\n",
    "\\alpha{x}&\\text{if}\\ {x\\le0}\n",
    "\\end{cases}\n",
    "$$\n",
    "\n",
    "```{image} ../images/b/leaky_relu.png\n",
    ":alt: leaky_relu\n",
    ":width: 500px\n",
    ":align: center\n",
    "```"
   ]
  },
  {
   "cell_type": "markdown",
   "metadata": {},
   "source": [
    "### PReLU\n",
    "\n",
    "带参数的ReLU，它将LeackyReLU中的超参数 $\\alpha$ 变成了一个可以学习的参数 $\\theta$\n",
    "\n",
    "$$\n",
    "\\text{PReLU}_{\\theta}(x) =\n",
    "\\begin{cases}\n",
    "x\\quad&\\text{if}\\ {x > 0}\\\\\n",
    "\\theta{x}&\\text{if}\\ {x\\le0}\n",
    "\\end{cases}\n",
    "$$"
   ]
  },
  {
   "cell_type": "markdown",
   "metadata": {},
   "source": [
    "### ELU\n",
    "\n",
    "指数线性单元\n",
    "\n",
    "$$\n",
    "\\text{ELU}(x) =\n",
    "\\begin{cases}\n",
    "x\\quad&\\text{if}\\ {x > 0}\\\\\n",
    "\\alpha(e^{x} - 1)&\\text{if}\\ {x\\le0}\n",
    "\\end{cases}\n",
    "$$\n",
    "\n",
    "```{image} ../images/b/elu.png\n",
    ":alt: elu\n",
    ":width: 500px\n",
    ":align: center\n",
    "```"
   ]
  },
  {
   "cell_type": "markdown",
   "metadata": {},
   "source": [
    "## In Pytorch"
   ]
  },
  {
   "cell_type": "code",
   "execution_count": 1,
   "metadata": {},
   "outputs": [
    {
     "data": {
      "text/plain": [
       "ELU(alpha=0.5)"
      ]
     },
     "execution_count": 1,
     "metadata": {},
     "output_type": "execute_result"
    }
   ],
   "source": [
    "from torch import nn\n",
    "\n",
    "nn.Sigmoid()\n",
    "nn.Tanh()\n",
    "nn.ReLU()\n",
    "nn.LeakyReLU(negative_slope=0.02)\n",
    "nn.PReLU()\n",
    "nn.ELU(alpha=0.5)"
   ]
  },
  {
   "cell_type": "code",
   "execution_count": null,
   "metadata": {},
   "outputs": [],
   "source": []
  }
 ],
 "metadata": {
  "kernelspec": {
   "display_name": "Python 3",
   "language": "python",
   "name": "python3"
  },
  "language_info": {
   "codemirror_mode": {
    "name": "ipython",
    "version": 3
   },
   "file_extension": ".py",
   "mimetype": "text/x-python",
   "name": "python",
   "nbconvert_exporter": "python",
   "pygments_lexer": "ipython3",
   "version": "3.8.3"
  }
 },
 "nbformat": 4,
 "nbformat_minor": 4
}

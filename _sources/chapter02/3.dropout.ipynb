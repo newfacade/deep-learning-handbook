{
 "cells": [
  {
   "cell_type": "markdown",
   "metadata": {},
   "source": [
    "# Dropout\n",
    "\n",
    "```{note}\n",
    "Dropout通过在训练时以无偏的方式注入噪声，迫使模型学习更加鲁棒的模式<br/>\n",
    "Dropout可以配合正则化一起使用，也可以单独使用\n",
    "```"
   ]
  },
  {
   "cell_type": "markdown",
   "metadata": {},
   "source": [
    "## 形式化\n",
    "\n",
    "![jupyter](../images/dropout2.svg)\n",
    "\n",
    "在模型训练的每个batch，为隐藏层中各个神经元掷骰子:\n",
    "\n",
    "$$\n",
    "a_{dropout} = \n",
    "\\begin{cases}\n",
    "0 &\\text{with probability }p \\\\\n",
    "\\frac{a}{1-p} &\\text{otherwise}\n",
    "\\end{cases}\n",
    "$$\n",
    "\n",
    "即每个神经元有 $p$ 的概率被丢弃，不然就乘以 $\\frac{1}{1-p}$ 倍，这个操作保持神经元的输出的期望不变:\n",
    "\n",
    "$$E(a_{dropout}) = E(a)$$"
   ]
  },
  {
   "cell_type": "markdown",
   "metadata": {},
   "source": [
    "## Pytorch中的Dropout"
   ]
  },
  {
   "cell_type": "code",
   "execution_count": 1,
   "metadata": {},
   "outputs": [],
   "source": [
    "from torch import nn\n",
    "\n",
    "# 定义模型\n",
    "net = nn.Sequential(nn.Flatten(), \n",
    "                    nn.Linear(784, 256), \n",
    "                    nn.ReLU(),\n",
    "                    # Dropout在激活函数之后\n",
    "                    nn.Dropout(p=0.2), \n",
    "                    nn.Linear(256, 10))"
   ]
  },
  {
   "cell_type": "code",
   "execution_count": 2,
   "metadata": {},
   "outputs": [],
   "source": [
    "import d2l\n",
    "\n",
    "# 获取数据\n",
    "batch_size = 256\n",
    "train_iter, test_iter = d2l.load_data_fashion_mnist(batch_size=batch_size)"
   ]
  },
  {
   "cell_type": "code",
   "execution_count": 3,
   "metadata": {},
   "outputs": [
    {
     "name": "stdout",
     "output_type": "stream",
     "text": [
      "epoch 1 , loss 0.5663, train acc 0.7963, test acc 0.8358\n",
      "epoch 2 , loss 0.4271, train acc 0.8451, test acc 0.8547\n",
      "epoch 3 , loss 0.3943, train acc 0.8558, test acc 0.8415\n",
      "epoch 4 , loss 0.3849, train acc 0.8582, test acc 0.8534\n",
      "epoch 5 , loss 0.3798, train acc 0.8595, test acc 0.8507\n",
      "epoch 6 , loss 0.3765, train acc 0.8612, test acc 0.8561\n",
      "epoch 7 , loss 0.3725, train acc 0.8630, test acc 0.8611\n",
      "epoch 8 , loss 0.3573, train acc 0.8693, test acc 0.8605\n",
      "epoch 9 , loss 0.3516, train acc 0.8692, test acc 0.8696\n",
      "epoch 10, loss 0.3515, train acc 0.8712, test acc 0.8635\n"
     ]
    }
   ],
   "source": [
    "# 训练\n",
    "# 可以看出训练集和测试集表现差不多，Dropout很好地抑制了过拟合\n",
    "lr, num_epochs = 0.01, 10\n",
    "d2l.train_image_classifier(net, train_iter, test_iter, lr, num_epochs)"
   ]
  },
  {
   "cell_type": "markdown",
   "metadata": {},
   "source": [
    "```{warning}\n",
    "一般只Dropout隐藏层<br/>\n",
    "只在训练时Dropout，预测时会使用完整信息\n",
    "```"
   ]
  },
  {
   "cell_type": "code",
   "execution_count": null,
   "metadata": {},
   "outputs": [],
   "source": []
  }
 ],
 "metadata": {
  "kernelspec": {
   "display_name": "Python 3",
   "language": "python",
   "name": "python3"
  },
  "language_info": {
   "codemirror_mode": {
    "name": "ipython",
    "version": 3
   },
   "file_extension": ".py",
   "mimetype": "text/x-python",
   "name": "python",
   "nbconvert_exporter": "python",
   "pygments_lexer": "ipython3",
   "version": "3.8.3"
  }
 },
 "nbformat": 4,
 "nbformat_minor": 4
}

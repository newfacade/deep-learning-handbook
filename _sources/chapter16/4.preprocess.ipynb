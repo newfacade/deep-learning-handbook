{
 "cells": [
  {
   "cell_type": "markdown",
   "metadata": {},
   "source": [
    "# 预处理输入特征\n",
    "\n",
    "```{note}\n",
    "keras有其标准的预处理层，当标准层不足以完成任务时，也可以自定义预处理层。\n",
    "```"
   ]
  },
  {
   "cell_type": "markdown",
   "metadata": {},
   "source": [
    "## 标准预处理层"
   ]
  },
  {
   "cell_type": "code",
   "execution_count": 1,
   "metadata": {},
   "outputs": [
    {
     "data": {
      "text/plain": [
       "<tf.Tensor: shape=(1, 3), dtype=float32, numpy=array([[-1., -1., -1.]], dtype=float32)>"
      ]
     },
     "execution_count": 1,
     "metadata": {},
     "output_type": "execute_result"
    }
   ],
   "source": [
    "import numpy as np\n",
    "import tensorflow as tf\n",
    "\n",
    "# 各列均值为[1, 8, 5]，标准差为[1, 1, 1]\n",
    "adapt_data = np.array([[0., 7., 4.],\n",
    "                       [2., 9., 6.],\n",
    "                       [0., 7., 4.],\n",
    "                       [2., 9., 6.]], dtype='float32')\n",
    "input_data = np.array([[0., 7., 4.]], dtype='float32')\n",
    "# 标准化层\n",
    "layer = tf.keras.layers.Normalization(axis=-1)\n",
    "# 以adapt_data为准\n",
    "layer.adapt(adapt_data)\n",
    "# as expected\n",
    "layer(input_data)"
   ]
  },
  {
   "cell_type": "code",
   "execution_count": 2,
   "metadata": {},
   "outputs": [
    {
     "data": {
      "text/plain": [
       "<tf.Tensor: shape=(2, 4), dtype=int64, numpy=\n",
       "array([[0, 2, 3, 1],\n",
       "       [1, 3, 2, 1]])>"
      ]
     },
     "execution_count": 2,
     "metadata": {},
     "output_type": "execute_result"
    }
   ],
   "source": [
    "x = np.array([[-1.5, 1.0, 3.4, .5], \n",
    "              [0.0, 3.0, 1.3, 0.0]])\n",
    "# 指定分桶边界，也可以按num_bins定分桶个数然后adapt\n",
    "layer = tf.keras.layers.Discretization(bin_boundaries=[0., 1., 2.])\n",
    "# as expected，注意边界是[)\n",
    "layer(x)"
   ]
  },
  {
   "cell_type": "markdown",
   "metadata": {},
   "source": [
    "## 自定义预处理层"
   ]
  },
  {
   "cell_type": "code",
   "execution_count": 3,
   "metadata": {},
   "outputs": [],
   "source": [
    "from tensorflow import keras\n",
    "\n",
    "\n",
    "class Standardization(keras.layers.Layer):\n",
    "    def adapt(self, data_sample):\n",
    "        # 调用adapt()方法来使其适应数据集\n",
    "        self.means_ = np.mean(data_sample, axis=0, keepdims=True)\n",
    "        self.stds_ = np.std(data_sample, axis=0, keepdims=True)\n",
    "\n",
    "    def call(self, inputs):\n",
    "        # 标准化\n",
    "        return (inputs - self.means_) / (self.stds_ + keras.backend.epsilon())"
   ]
  },
  {
   "cell_type": "code",
   "execution_count": null,
   "metadata": {},
   "outputs": [],
   "source": []
  }
 ],
 "metadata": {
  "kernelspec": {
   "display_name": "Python 3",
   "language": "python",
   "name": "python3"
  },
  "language_info": {
   "codemirror_mode": {
    "name": "ipython",
    "version": 3
   },
   "file_extension": ".py",
   "mimetype": "text/x-python",
   "name": "python",
   "nbconvert_exporter": "python",
   "pygments_lexer": "ipython3",
   "version": "3.8.3"
  }
 },
 "nbformat": 4,
 "nbformat_minor": 4
}

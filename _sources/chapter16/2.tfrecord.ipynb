{
 "cells": [
  {
   "cell_type": "markdown",
   "metadata": {},
   "source": [
    "# TFRecord和Example\n",
    "\n",
    "```{note}\n",
    "TFRecord格式是Tensorflow首选的格式，用于存储大量数据并有效读取数据。<br/>\n",
    "TFRecord 格式是一种用于存储二进制记录序列的简单格式。\n",
    "```"
   ]
  },
  {
   "cell_type": "markdown",
   "metadata": {},
   "source": [
    "## TFRecord文件\n",
    "\n",
    "A TFRecord file is just a list of binary records."
   ]
  },
  {
   "cell_type": "code",
   "execution_count": 1,
   "metadata": {},
   "outputs": [],
   "source": [
    "import tensorflow as tf\n",
    "\n",
    "# 创建TFRecord文件\n",
    "with tf.io.TFRecordWriter(\"my_data.tfrecord\") as f:\n",
    "    f.write(b\"This is the first record\")\n",
    "    f.write(b\"And this is the second record\")"
   ]
  },
  {
   "cell_type": "code",
   "execution_count": 2,
   "metadata": {},
   "outputs": [
    {
     "name": "stdout",
     "output_type": "stream",
     "text": [
      "tf.Tensor(b'This is the first record', shape=(), dtype=string)\n",
      "tf.Tensor(b'And this is the second record', shape=(), dtype=string)\n"
     ]
    }
   ],
   "source": [
    "# 读取TFRecord文件\n",
    "filepaths = [\"my_data.tfrecord\"]\n",
    "dataset = tf.data.TFRecordDataset(filepaths)\n",
    "for item in dataset:\n",
    "    print(item)"
   ]
  },
  {
   "cell_type": "markdown",
   "metadata": {},
   "source": [
    "## 协议缓冲区\n",
    "\n",
    "尽管TFRecord的每个记录可以包含任意的二进制数据，但通常来说它会包含序列化的协议缓冲区（protobufs）。\n",
    "\n",
    "协议缓冲区是一个跨平台、跨语言的库，用于高效地序列化结构化数据。\n",
    "\n",
    "协议消息由 .proto 文件定义，这通常是了解消息类型最简单的方法，如：\n",
    "\n",
    "```proto\n",
    "syntax = \"proto3\"\n",
    "message Person {\n",
    "    string name = 1;\n",
    "    int32 id = 2;\n",
    "    repeated string email = 3;\n",
    "}\n",
    "```\n",
    "\n",
    "此定义表示我们使用的是protobuf格式的第三个版本。\n",
    "\n",
    "它指定每个Person对象具有string类型的name，int32类型的id和零个或多个string类型的email。\n",
    "\n",
    "数字1、2和3是字段标识符。"
   ]
  },
  {
   "cell_type": "markdown",
   "metadata": {},
   "source": [
    "## Example\n",
    "\n",
    "TFRecord文件中通常使用的protobufs是Example protobuf，它表示数据集中的一个实例。\n",
    "\n",
    "以下是Example protobuf类型的定义：\n",
    "\n",
    "```proto\n",
    "syntax = \"proto3\";\n",
    "\n",
    "message BytesList { repeated bytes value = 1; }\n",
    "message FloatList { repeated float value = 1 [packed = true]; }\n",
    "message Int64List { repeated int64 value = 1 [packed = true]; }\n",
    "message Feature {\n",
    "    oneof kind {\n",
    "        BytesList bytes_list = 1;\n",
    "        FloatList float_list = 2;\n",
    "        Int64List int64_list = 3;\n",
    "    }\n",
    "};\n",
    "message Features { map<string, Feature> feature = 1; };\n",
    "message Example { Features features = 1; };\n",
    "```\n",
    "\n",
    "BytesList、FloatList和IntList的定义非常简单直接，[packed=true] 用于重复的数字字段以实现更有效的编码。\n",
    "\n",
    "一个 Feature 包含一个BytesList或FloatList或IntList。\n",
    "\n",
    "一个 Features（带s）包含将特征名称映射到相应特征的值的字典。\n",
    "\n",
    "最后，一个 Example 仅包含一个 Features 对象（为了可扩展所以又包装了一层）。"
   ]
  },
  {
   "cell_type": "code",
   "execution_count": null,
   "metadata": {},
   "outputs": [],
   "source": []
  }
 ],
 "metadata": {
  "kernelspec": {
   "display_name": "Python 3",
   "language": "python",
   "name": "python3"
  },
  "language_info": {
   "codemirror_mode": {
    "name": "ipython",
    "version": 3
   },
   "file_extension": ".py",
   "mimetype": "text/x-python",
   "name": "python",
   "nbconvert_exporter": "python",
   "pygments_lexer": "ipython3",
   "version": "3.8.3"
  }
 },
 "nbformat": 4,
 "nbformat_minor": 4
}

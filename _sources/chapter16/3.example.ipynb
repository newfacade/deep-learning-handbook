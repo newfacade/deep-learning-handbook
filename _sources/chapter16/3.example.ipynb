{
 "cells": [
  {
   "cell_type": "markdown",
   "metadata": {},
   "source": [
    "# 写入和读取TFRecord文件\n",
    "\n",
    "```{note}\n",
    "上节中我们了解到TFRecord文件通常包含的是序列化的Example数据。<br/>\n",
    "本节来讲如何写入和读取这类文件。\n",
    "```"
   ]
  },
  {
   "cell_type": "markdown",
   "metadata": {},
   "source": [
    "## 写入TFRecord文件"
   ]
  },
  {
   "cell_type": "code",
   "execution_count": 1,
   "metadata": {},
   "outputs": [],
   "source": [
    "import tensorflow as tf\n",
    "\n",
    "# for simplicity\n",
    "BytesList = tf.train.BytesList\n",
    "FloatList = tf.train.FloatList\n",
    "Int64List = tf.train.Int64List\n",
    "Feature = tf.train.Feature\n",
    "Features = tf.train.Features\n",
    "Example = tf.train.Example"
   ]
  },
  {
   "cell_type": "code",
   "execution_count": 2,
   "metadata": {},
   "outputs": [],
   "source": [
    "# 姓名，id，邮箱\n",
    "data = [[[b\"Alice\"], [123], [b\"alice@a.com\", b\"alice@b.com\"]],\n",
    "        [[b\"Bob\"], [22], [b\"Bob@c.com\"]]]"
   ]
  },
  {
   "cell_type": "code",
   "execution_count": 3,
   "metadata": {},
   "outputs": [],
   "source": [
    "with tf.io.TFRecordWriter(\"my_contacts.tfrecord\") as f:\n",
    "    for lst in data:\n",
    "        # 创建此数据的Example\n",
    "        person_example = Example(\n",
    "            features=Features(\n",
    "                # value都是列表\n",
    "                feature={\n",
    "                    \"name\": Feature(bytes_list=BytesList(value=lst[0])),\n",
    "                    \"id\": Feature(int64_list=Int64List(value=lst[1])),\n",
    "                    \"emails\": Feature(bytes_list=BytesList(value=lst[2]))\n",
    "                }))\n",
    "        # 写入序列化的Example\n",
    "        f.write(person_example.SerializeToString())"
   ]
  },
  {
   "cell_type": "markdown",
   "metadata": {},
   "source": [
    "## 读取TFRecord文件\n",
    "\n",
    "读取数据时，首先要给出Example的description。"
   ]
  },
  {
   "cell_type": "code",
   "execution_count": 4,
   "metadata": {},
   "outputs": [],
   "source": [
    "feature_description = {\n",
    "    \"name\": tf.io.FixedLenFeature([], tf.string, default_value=\"\"),\n",
    "    \"id\": tf.io.FixedLenFeature([], tf.int64, default_value=0),\n",
    "    \"emails\": tf.io.VarLenFeature(tf.string),\n",
    "}"
   ]
  },
  {
   "cell_type": "markdown",
   "metadata": {},
   "source": [
    "### 单个解析"
   ]
  },
  {
   "cell_type": "code",
   "execution_count": 5,
   "metadata": {},
   "outputs": [
    {
     "name": "stdout",
     "output_type": "stream",
     "text": [
      "{'emails': <tensorflow.python.framework.sparse_tensor.SparseTensor object at 0x7f874a14a6d0>, 'id': <tf.Tensor: shape=(), dtype=int64, numpy=123>, 'name': <tf.Tensor: shape=(), dtype=string, numpy=b'Alice'>}\n",
      "{'emails': <tensorflow.python.framework.sparse_tensor.SparseTensor object at 0x7f874a14ac10>, 'id': <tf.Tensor: shape=(), dtype=int64, numpy=22>, 'name': <tf.Tensor: shape=(), dtype=string, numpy=b'Bob'>}\n"
     ]
    }
   ],
   "source": [
    "for serialized_example in tf.data.TFRecordDataset([\"my_contacts.tfrecord\"]):\n",
    "    # 解析Example\n",
    "    parsed_example = tf.io.parse_single_example(serialized_example,\n",
    "                                                feature_description)\n",
    "    # 然后就可以获得数据啦\n",
    "    print(parsed_example)"
   ]
  },
  {
   "cell_type": "markdown",
   "metadata": {},
   "source": [
    "### 批量解析\n",
    "\n",
    "批量解析的话要在TFRecordDataset中指定batch，并用 tf.io.parse_example 解析函数替代 tf.io.parse_single_example。"
   ]
  },
  {
   "cell_type": "code",
   "execution_count": 6,
   "metadata": {},
   "outputs": [
    {
     "name": "stdout",
     "output_type": "stream",
     "text": [
      "{'emails': <tensorflow.python.framework.sparse_tensor.SparseTensor object at 0x7f8751435970>, 'id': <tf.Tensor: shape=(2,), dtype=int64, numpy=array([123,  22])>, 'name': <tf.Tensor: shape=(2,), dtype=string, numpy=array([b'Alice', b'Bob'], dtype=object)>}\n"
     ]
    }
   ],
   "source": [
    "for serialized_example in tf.data.TFRecordDataset([\"my_contacts.tfrecord\"]).batch(10):\n",
    "    # 解析Example\n",
    "    parsed_examples = tf.io.parse_example(serialized_example,\n",
    "                                         feature_description)\n",
    "    print(parsed_examples)"
   ]
  },
  {
   "cell_type": "markdown",
   "metadata": {},
   "source": [
    "### 预处理数据\n",
    "\n",
    "有时候光解析数据是不够的，数据还需要经过预处理才能被模型接受，这时需要自定义所需的预处理函数然后map。"
   ]
  },
  {
   "cell_type": "code",
   "execution_count": 7,
   "metadata": {},
   "outputs": [
    {
     "name": "stdout",
     "output_type": "stream",
     "text": [
      "tf.Tensor(246, shape=(), dtype=int64)\n",
      "tf.Tensor(44, shape=(), dtype=int64)\n"
     ]
    }
   ],
   "source": [
    "def _parse_person(example_proto):\n",
    "    # 将id乘2并只使用这个特征\n",
    "    parsed_example = tf.io.parse_single_example(example_proto, \n",
    "                                                feature_description)\n",
    "    person_id = parsed_example[\"id\"]\n",
    "    return person_id * 2\n",
    "\n",
    "\n",
    "# 原始的dataset\n",
    "raw_dataset = tf.data.TFRecordDataset([\"my_contacts.tfrecord\"])\n",
    "# 预处理后的dataset\n",
    "dataset = raw_dataset.map(_parse_person, num_parallel_calls=4)\n",
    "# as expected\n",
    "for X in dataset:\n",
    "    print(X)"
   ]
  },
  {
   "cell_type": "code",
   "execution_count": null,
   "metadata": {},
   "outputs": [],
   "source": []
  }
 ],
 "metadata": {
  "kernelspec": {
   "display_name": "Python 3",
   "language": "python",
   "name": "python3"
  },
  "language_info": {
   "codemirror_mode": {
    "name": "ipython",
    "version": 3
   },
   "file_extension": ".py",
   "mimetype": "text/x-python",
   "name": "python",
   "nbconvert_exporter": "python",
   "pygments_lexer": "ipython3",
   "version": "3.8.3"
  }
 },
 "nbformat": 4,
 "nbformat_minor": 4
}

{
 "cells": [
  {
   "cell_type": "markdown",
   "metadata": {},
   "source": [
    "# 使用BERT\n",
    "\n",
    "```{note}\n",
    "之前我们介绍过BERT，它是任务无关的。<br/>\n",
    "本节具体介绍如何使用BERT来训练各种下游的自然语言处理的应用。\n",
    "```"
   ]
  },
  {
   "cell_type": "markdown",
   "metadata": {},
   "source": [
    "## 单文本分类\n",
    "\n",
    "![image](../images/11/bert-one-seq.svg)"
   ]
  },
  {
   "cell_type": "markdown",
   "metadata": {},
   "source": [
    "## 文本对回归或分类\n",
    "\n",
    "![image](../images/11/bert-two-seqs.svg)"
   ]
  },
  {
   "cell_type": "markdown",
   "metadata": {},
   "source": [
    "## 文本标注\n",
    "\n",
    "如词性标注。\n",
    "\n",
    "![image](../images/11/bert-tagging.svg)"
   ]
  },
  {
   "cell_type": "markdown",
   "metadata": {},
   "source": [
    "## 问答系统\n",
    "\n",
    "以斯坦福问答数据集为例进行说明，问题的答案是原文本的一段。这样的话问答系统就只需预测答案的开头和结尾。\n",
    "\n",
    "![image](../images/11/bert-qa.svg)"
   ]
  },
  {
   "cell_type": "code",
   "execution_count": null,
   "metadata": {},
   "outputs": [],
   "source": []
  }
 ],
 "metadata": {
  "kernelspec": {
   "display_name": "Python 3",
   "language": "python",
   "name": "python3"
  },
  "language_info": {
   "codemirror_mode": {
    "name": "ipython",
    "version": 3
   },
   "file_extension": ".py",
   "mimetype": "text/x-python",
   "name": "python",
   "nbconvert_exporter": "python",
   "pygments_lexer": "ipython3",
   "version": "3.8.3"
  }
 },
 "nbformat": 4,
 "nbformat_minor": 4
}

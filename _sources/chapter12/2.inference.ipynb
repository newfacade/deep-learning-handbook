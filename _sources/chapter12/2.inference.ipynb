{
 "cells": [
  {
   "cell_type": "markdown",
   "metadata": {},
   "source": [
    "# 自然语言推理\n",
    "\n",
    "```{note}\n",
    "自然语言推理的输入是一个文本对：前提句和假设句，它的目标是分析出两个句子的逻辑关系。<br/>\n",
    "一般有三种逻辑关系：\n",
    "1. Entailment:前提句可以推出假设句\n",
    "2. Contradiction: 前提句可以推出假设句的反命题\n",
    "3. Neutral: 其它\n",
    "```"
   ]
  },
  {
   "cell_type": "code",
   "execution_count": null,
   "metadata": {},
   "outputs": [],
   "source": []
  }
 ],
 "metadata": {
  "kernelspec": {
   "display_name": "Python 3",
   "language": "python",
   "name": "python3"
  },
  "language_info": {
   "codemirror_mode": {
    "name": "ipython",
    "version": 3
   },
   "file_extension": ".py",
   "mimetype": "text/x-python",
   "name": "python",
   "nbconvert_exporter": "python",
   "pygments_lexer": "ipython3",
   "version": "3.8.3"
  }
 },
 "nbformat": 4,
 "nbformat_minor": 4
}

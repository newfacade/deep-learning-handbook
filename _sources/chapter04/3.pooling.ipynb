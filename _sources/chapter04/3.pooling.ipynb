{
 "cells": [
  {
   "cell_type": "markdown",
   "metadata": {},
   "source": [
    "# Pooling\n",
    "\n",
    "```{note}\n",
    "pooling层用于降低空间分辨率\n",
    "```"
   ]
  },
  {
   "cell_type": "markdown",
   "metadata": {},
   "source": [
    "通常在我们处理图像时，我们希望逐渐降低各层的空间分辨率，这样可以增加神经元的感受野以处理更复杂的信息，还可以减少计算负载让我们得以增加通道数。\n",
    "\n",
    "Pooling层通过将一小块区域汇聚成一个数来降低空间分辨率。\n",
    "\n",
    "max-pooling: 选取区域内最大值来代表此区域。\n",
    "\n",
    "![jupyter](../images/d/pooling.svg)\n",
    "\n",
    "avg-pooling: 选取区域内平均值来代表此区域。"
   ]
  },
  {
   "cell_type": "markdown",
   "metadata": {},
   "source": [
    "## Pooling in Pytorch"
   ]
  },
  {
   "cell_type": "code",
   "execution_count": 1,
   "metadata": {},
   "outputs": [
    {
     "data": {
      "text/plain": [
       "tensor([[[[4., 5.],\n",
       "          [7., 8.]]]])"
      ]
     },
     "execution_count": 1,
     "metadata": {},
     "output_type": "execute_result"
    }
   ],
   "source": [
    "import torch\n",
    "from torch import nn\n",
    "\n",
    "x = torch.arange(9).float().reshape(1, 1, 3, 3)\n",
    "# 默认使用max pooling\n",
    "max_pool2d = nn.MaxPool2d(2, padding=0, stride=1)\n",
    "# as expected\n",
    "max_pool2d(x)"
   ]
  },
  {
   "cell_type": "code",
   "execution_count": 2,
   "metadata": {},
   "outputs": [],
   "source": [
    "# avg pooling\n",
    "avg_pool2d = nn.AvgPool2d(2, padding=1, stride=2)"
   ]
  },
  {
   "cell_type": "code",
   "execution_count": null,
   "metadata": {},
   "outputs": [],
   "source": []
  }
 ],
 "metadata": {
  "kernelspec": {
   "display_name": "Python 3",
   "language": "python",
   "name": "python3"
  },
  "language_info": {
   "codemirror_mode": {
    "name": "ipython",
    "version": 3
   },
   "file_extension": ".py",
   "mimetype": "text/x-python",
   "name": "python",
   "nbconvert_exporter": "python",
   "pygments_lexer": "ipython3",
   "version": "3.8.3"
  }
 },
 "nbformat": 4,
 "nbformat_minor": 4
}

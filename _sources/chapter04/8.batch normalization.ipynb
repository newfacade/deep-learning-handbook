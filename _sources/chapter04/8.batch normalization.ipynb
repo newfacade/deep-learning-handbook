{
 "cells": [
  {
   "cell_type": "markdown",
   "metadata": {},
   "source": [
    "# 卷积层的批标准化\n",
    "\n",
    "```{note}\n",
    "之前我们讲过全连接层的批标准化（Batch Normalization，BN），卷积层的批标准化也是类似的<br/>\n",
    "```"
   ]
  },
  {
   "cell_type": "markdown",
   "metadata": {},
   "source": [
    "## 形式化\n",
    "\n",
    "回想全连接层的批标准化：\n",
    "\n",
    "$$\\mathrm{BN}(\\mathbf{x}) = \\boldsymbol{\\gamma}\\odot\\frac{\\mathbf{x} - \\hat{\\boldsymbol{\\mu}}_{\\mathcal{B}}}{\\hat{\\boldsymbol{\\sigma}}_{\\mathcal{B}}} + \\boldsymbol{\\beta}$$\n",
    "\n",
    "$$\\hat{\\boldsymbol{\\mu}}_{\\mathcal{B}} = \\frac{1}{|\\mathcal{B}|}\\sum_{x\\in{\\mathcal{B}}}\\mathbf{x}$$\n",
    "\n",
    "$$\\hat{\\boldsymbol{\\sigma}}_{\\mathcal{B}}^{2} = \\frac{1}{|\\mathcal{B}|}\\sum_{x\\in{\\mathcal{B}}}(\\mathbf{x} - \\hat{\\boldsymbol{\\mu}}_{\\mathcal{B}})^{2} + \\boldsymbol{\\epsilon}$$\n",
    "\n",
    "卷积层批标准化也是这个公式，$\\boldsymbol{\\gamma},\\boldsymbol{\\beta}$ 是可训练参数。\n",
    "\n",
    "```{warning}\n",
    "区别在于卷积层的是每个输入通道一个标量均值和方差，不像全连接层的是每个特征一个标量均值和方差。<br/>\n",
    "这样有多少个通道就有多少个均值、方差对；标准化后可以保证各个通道总体在一个量纲。<br/>\n",
    "卷积层的批标准化也是在卷积之后，激活函数之前。\n",
    "```"
   ]
  },
  {
   "cell_type": "markdown",
   "metadata": {},
   "source": [
    "## BatchNorm2d"
   ]
  },
  {
   "cell_type": "code",
   "execution_count": 1,
   "metadata": {},
   "outputs": [
    {
     "data": {
      "text/plain": [
       "torch.Size([16, 10, 28, 28])"
      ]
     },
     "execution_count": 1,
     "metadata": {},
     "output_type": "execute_result"
    }
   ],
   "source": [
    "import torch\n",
    "from torch import nn\n",
    "\n",
    "# (batch_size, num_channels, h, w)\n",
    "x = torch.rand(16, 10, 28, 28)\n",
    "# 需指定num_channels\n",
    "m = nn.BatchNorm2d(10)\n",
    "# same as x\n",
    "m(x).shape"
   ]
  },
  {
   "cell_type": "code",
   "execution_count": null,
   "metadata": {},
   "outputs": [],
   "source": []
  }
 ],
 "metadata": {
  "kernelspec": {
   "display_name": "Python 3",
   "language": "python",
   "name": "python3"
  },
  "language_info": {
   "codemirror_mode": {
    "name": "ipython",
    "version": 3
   },
   "file_extension": ".py",
   "mimetype": "text/x-python",
   "name": "python",
   "nbconvert_exporter": "python",
   "pygments_lexer": "ipython3",
   "version": "3.8.3"
  }
 },
 "nbformat": 4,
 "nbformat_minor": 4
}

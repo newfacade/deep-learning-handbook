{
 "cells": [
  {
   "cell_type": "markdown",
   "metadata": {},
   "source": [
    "# 语言模型数据集\n",
    "\n",
    "```{note}\n",
    "我们使用H.G.Well的小说《The Time Machine》作为我们训练语言模型的语料库，它相当小只有30000多个单词。<br/>\n",
    "要把文本转化成模型能使用的数据集，一般需要如下几步：\n",
    "1. 读取数据\n",
    "2. tokenize\n",
    "3. 建立词汇表\n",
    "4. tokens转换成数字索引\n",
    "5. 创建数据集\n",
    "```"
   ]
  },
  {
   "cell_type": "markdown",
   "metadata": {},
   "source": [
    "## 读取数据"
   ]
  },
  {
   "cell_type": "code",
   "execution_count": 1,
   "metadata": {},
   "outputs": [],
   "source": [
    "import re\n",
    "import random\n",
    "import collections\n",
    "import torch\n",
    "\n",
    "\n",
    "#@save\n",
    "def read_time_machine():\n",
    "    # 读取《The Time Machine》by H. G. Wells\n",
    "    lines = open(\"../data/timemachine.txt\").readlines()\n",
    "    # 非字母都转换成空格、大写字母转小写\n",
    "    return [re.sub('[^A-Za-z]+', ' ', line).strip().lower() for line in lines if lines]"
   ]
  },
  {
   "cell_type": "markdown",
   "metadata": {},
   "source": [
    "## Tokenize\n",
    "\n",
    "Token是文本的基本组成单元，可以是字符也可以是单词。"
   ]
  },
  {
   "cell_type": "code",
   "execution_count": 2,
   "metadata": {},
   "outputs": [],
   "source": [
    "#@save\n",
    "def tokenize(lines, token_type='char'):\n",
    "    # 把每行分裂成一个个字符或是一个个单词\n",
    "    if token_type == 'word':\n",
    "        return [line.split() for line in lines]\n",
    "    elif token_type == 'char':\n",
    "        return [list(line) for line in lines]\n",
    "    else:\n",
    "        print('ERROR: unknown token type: ' + token_type)"
   ]
  },
  {
   "cell_type": "markdown",
   "metadata": {},
   "source": [
    "## 建立词汇表"
   ]
  },
  {
   "cell_type": "code",
   "execution_count": 3,
   "metadata": {},
   "outputs": [],
   "source": [
    "#@save\n",
    "class Vocab:\n",
    "    \"\"\"tokens的词汇表\"\"\"\n",
    "    def __init__(self, tokens=None, min_freq=0, reserved_tokens=None):\n",
    "        if tokens is None:\n",
    "            tokens = []\n",
    "        # 特殊的tokens，如<pad>等\n",
    "        if reserved_tokens is None:\n",
    "            reserved_tokens = []\n",
    "        # 统计各个token的出现次数\n",
    "        counter = collections.Counter([token for line in tokens for token in line])\n",
    "        # 按出现次数排序\n",
    "        self.token_freqs = sorted(counter.items(), key=lambda x: x[1], \n",
    "                                  reverse=True)\n",
    "        # The index for the unknown token is 0\n",
    "        self.unk, uniq_tokens = 0, ['<unk>'] + reserved_tokens\n",
    "        # 词汇的出现次数需大于等于min_freq\n",
    "        uniq_tokens += [token for token, freq in self.token_freqs\n",
    "                        if freq >= min_freq and token not in uniq_tokens]\n",
    "        # 索引如何转token、token如何转索引\n",
    "        self.idx_to_token, self.token_to_idx = [], dict()\n",
    "        for token in uniq_tokens:\n",
    "            self.idx_to_token.append(token)\n",
    "            self.token_to_idx[token] = len(self.idx_to_token) - 1\n",
    "\n",
    "    def __len__(self):\n",
    "        return len(self.idx_to_token)\n",
    "\n",
    "    def __getitem__(self, tokens):\n",
    "        \"\"\"tokens转化成索引\"\"\"\n",
    "        if not isinstance(tokens, (list, tuple)):\n",
    "            # 可以直接转\n",
    "            return self.token_to_idx.get(tokens, self.unk)\n",
    "        # 递归转\n",
    "        return [self.__getitem__(token) for token in tokens]\n",
    "\n",
    "    def to_tokens(self, indices):\n",
    "        \"\"\"索引转化成tokens\"\"\"\n",
    "        if not isinstance(indices, (list, tuple)):\n",
    "            # 索引不能越界，不然会报错\n",
    "            return self.idx_to_token[indices]\n",
    "        return [self.idx_to_token[index] for index in indices]"
   ]
  },
  {
   "cell_type": "markdown",
   "metadata": {},
   "source": [
    "## Tokens转化成数字索引\n",
    "\n",
    "把上面几步连起来。"
   ]
  },
  {
   "cell_type": "code",
   "execution_count": 4,
   "metadata": {},
   "outputs": [],
   "source": [
    "#@save\n",
    "def load_corpus_time_machine():\n",
    "    \"\"\"获得timemachine语料库与词汇表\"\"\"\n",
    "    # tokenize\n",
    "    tokens = tokenize(read_time_machine())\n",
    "    # 建立词汇表\n",
    "    vocab = Vocab(tokens)\n",
    "    # 转化为List[int]\n",
    "    corpus = [vocab[token] for line in tokens for token in line if vocab[token] != 0]\n",
    "    return corpus, vocab"
   ]
  },
  {
   "cell_type": "markdown",
   "metadata": {},
   "source": [
    "## 创建数据集\n",
    "\n",
    "实现一个读取corpus，生成batches的函数。"
   ]
  },
  {
   "cell_type": "code",
   "execution_count": 5,
   "metadata": {},
   "outputs": [],
   "source": [
    "#@save\n",
    "class TimeMachineDataLoader:\n",
    "    \"\"\"生成timemachine数据集\"\"\"\n",
    "    def __init__(self, batch_size, num_steps):\n",
    "        # 读取上一步的结果\n",
    "        self.corpus, self.vocab = load_corpus_time_machine()\n",
    "        # batch_size: 每个batch的样本数\n",
    "        # num_steps: 每个样本的token数，也是索引数\n",
    "        self.batch_size, self.num_steps = batch_size, num_steps\n",
    "\n",
    "    def __iter__(self):\n",
    "        # 加点随机性，从offset开始读\n",
    "        offset = random.randint(0, self.num_steps - 1)\n",
    "        num_tokens = ((len(self.corpus) - offset - 1) // self.batch_size) * self.batch_size\n",
    "        # shape: (batch_size, -1)\n",
    "        # 要预测下一个token，所以要Ys中要+1\n",
    "        Xs = torch.tensor(self.corpus[offset: offset + num_tokens]\n",
    "                         ).reshape(self.batch_size, -1)\n",
    "        Ys = torch.tensor(self.corpus[offset + 1: offset + 1 + num_tokens]\n",
    "                         ).reshape(self.batch_size, -1)\n",
    "        # 计算batch数\n",
    "        num_batches = Xs.shape[1] // self.num_steps\n",
    "        for i in range(0, self.num_steps * num_batches, self.num_steps):\n",
    "            # 相应列的内容\n",
    "            X = Xs[:, i: i + self.num_steps]\n",
    "            Y = Ys[:, i: i + self.num_steps]\n",
    "            yield X, Y"
   ]
  },
  {
   "cell_type": "markdown",
   "metadata": {},
   "source": [
    "## 合起来"
   ]
  },
  {
   "cell_type": "code",
   "execution_count": 6,
   "metadata": {},
   "outputs": [],
   "source": [
    "#@save\n",
    "def load_data_time_machine(batch_size, num_steps):\n",
    "    \"\"\"读取timemachine数据集和词汇表\"\"\"\n",
    "    data_iter = TimeMachineDataLoader(batch_size, num_steps)\n",
    "    return data_iter, data_iter.vocab"
   ]
  },
  {
   "cell_type": "code",
   "execution_count": 7,
   "metadata": {},
   "outputs": [
    {
     "name": "stdout",
     "output_type": "stream",
     "text": [
      "tensor([[ 2,  1,  3,  5, 13],\n",
      "        [ 9,  4,  3,  1,  3]])\n",
      "tensor([[ 1,  3,  5, 13,  2],\n",
      "        [ 4,  3,  1,  3,  9]])\n"
     ]
    }
   ],
   "source": [
    "# shape is (batch_size, num_steps)\n",
    "data_iter, vocab = load_data_time_machine(2, 5)\n",
    "for x, y in data_iter:\n",
    "    print(x)\n",
    "    print(y)\n",
    "    break"
   ]
  },
  {
   "cell_type": "code",
   "execution_count": null,
   "metadata": {},
   "outputs": [],
   "source": []
  }
 ],
 "metadata": {
  "kernelspec": {
   "display_name": "Python 3",
   "language": "python",
   "name": "python3"
  },
  "language_info": {
   "codemirror_mode": {
    "name": "ipython",
    "version": 3
   },
   "file_extension": ".py",
   "mimetype": "text/x-python",
   "name": "python",
   "nbconvert_exporter": "python",
   "pygments_lexer": "ipython3",
   "version": "3.8.3"
  }
 },
 "nbformat": 4,
 "nbformat_minor": 4
}

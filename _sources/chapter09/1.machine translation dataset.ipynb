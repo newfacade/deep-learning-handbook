{
 "cells": [
  {
   "cell_type": "markdown",
   "metadata": {},
   "source": [
    "# 机器翻译数据集\n",
    "\n",
    "```{note}\n",
    "机器翻译指的是将序列从一种语言自动翻译成另一种语言。<br/>\n",
    "本节我们将使用Tatoeba项目的英-法句子对生成机器翻译数据集。\n",
    "```"
   ]
  },
  {
   "cell_type": "markdown",
   "metadata": {},
   "source": [
    "## 读取数据"
   ]
  },
  {
   "cell_type": "code",
   "execution_count": 1,
   "metadata": {},
   "outputs": [],
   "source": [
    "import torch\n",
    "import d2l\n",
    "\n",
    "\n",
    "#@save\n",
    "def read_data_nmt():\n",
    "    \"\"\"读取英-法数据集\"\"\"\n",
    "    # 读取整个文件\n",
    "    text = open(\"../data/fra.txt\").read()\n",
    "    # 使用空格替换不间断空格、大写字母转小写\n",
    "    text = text.replace('\\u202f', ' ').replace('\\xa0', ' ').lower()\n",
    "    # 把标点符号和单词分开\n",
    "    out = [' ' + char if i > 0 and (char in set(',.!?') and text[i - 1] != ' ') else char \n",
    "           for i, char in enumerate(text)]\n",
    "    return ''.join(out)"
   ]
  },
  {
   "cell_type": "markdown",
   "metadata": {},
   "source": [
    "## Tokenize"
   ]
  },
  {
   "cell_type": "code",
   "execution_count": 2,
   "metadata": {},
   "outputs": [],
   "source": [
    "#@save\n",
    "def tokenize_nmt(text, num_examples=None):\n",
    "    \"\"\"Tokenize英-法数据集\"\"\"\n",
    "    source, target = [], []\n",
    "    for i, line in enumerate(text.split('\\n')):\n",
    "        # 保留前num_examples个句子对，可以作为测试集\n",
    "        if num_examples and i > num_examples:\n",
    "            break\n",
    "        # 以\\t分隔同一行中的英语和法语\n",
    "        parts = line.split('\\t')\n",
    "        if len(parts) == 2:\n",
    "            # tokenize为一个个单词，得到List[List[str]]\n",
    "            source.append(parts[0].split(' '))\n",
    "            target.append(parts[1].split(' '))\n",
    "    return source, target"
   ]
  },
  {
   "cell_type": "markdown",
   "metadata": {},
   "source": [
    "## Tokens转化为数字索引"
   ]
  },
  {
   "cell_type": "code",
   "execution_count": 3,
   "metadata": {},
   "outputs": [],
   "source": [
    "#@save\n",
    "def truncate_pad(line, num_steps, padding_token):\n",
    "    # 通过截断或填充使得每个句子的长度都是num_steps\n",
    "    if len(line) >= num_steps:\n",
    "        return line[: num_steps]\n",
    "    return line + [padding_token] * (num_steps - len(line))"
   ]
  },
  {
   "cell_type": "code",
   "execution_count": 4,
   "metadata": {},
   "outputs": [],
   "source": [
    "#@save\n",
    "def build_array_nmt(lines, vocab, num_steps):\n",
    "    \"\"\"tokens转化为数字索引，且通过截断或填充使每个句子长度都一样\"\"\"\n",
    "    # <eos>标明句子结束\n",
    "    lines = [vocab[l] + [vocab['<eos>']] for l in lines]\n",
    "    # 截断或填充\n",
    "    array = torch.tensor([truncate_pad(l, num_steps, vocab['<pad>']) for l in lines])\n",
    "    # 标明哪些token是<pad>\n",
    "    valid_len = (array != vocab['<pad>']).type(torch.int32).sum(1)\n",
    "    return array, valid_len"
   ]
  },
  {
   "cell_type": "markdown",
   "metadata": {},
   "source": [
    "## 合起来"
   ]
  },
  {
   "cell_type": "code",
   "execution_count": 5,
   "metadata": {},
   "outputs": [],
   "source": [
    "#@save\n",
    "def load_data_nmt(batch_size, num_steps, num_examples=600):\n",
    "    \"\"\"读取英-法数据集、英语词汇表、法语词汇表\"\"\"\n",
    "    # 读取数据并tokenize\n",
    "    text = read_data_nmt()\n",
    "    source, target = tokenize_nmt(text, num_examples)\n",
    "    # 分别建立英、法词汇表\n",
    "    src_vocab = d2l.Vocab(source, min_freq=2,\n",
    "                          reserved_tokens=['<pad>', '<bos>', '<eos>'])\n",
    "    tgt_vocab = d2l.Vocab(target, min_freq=2,\n",
    "                          reserved_tokens=['<pad>', '<bos>', '<eos>'])\n",
    "    # 得到array和valid_len\n",
    "    src_array, src_valid_len = build_array_nmt(source, src_vocab, num_steps)\n",
    "    tgt_array, tgt_valid_len = build_array_nmt(target, tgt_vocab, num_steps)\n",
    "    # 使用load_array建立pytorch-dataset\n",
    "    data_arrays = (src_array, src_valid_len, tgt_array, tgt_valid_len)\n",
    "    data_iter = d2l.load_array(data_arrays, batch_size)\n",
    "    return data_iter, src_vocab, tgt_vocab"
   ]
  },
  {
   "cell_type": "code",
   "execution_count": 6,
   "metadata": {},
   "outputs": [
    {
     "name": "stdout",
     "output_type": "stream",
     "text": [
      "X: tensor([[ 79,  34,   5,   3,   1,   1,   1,   1],\n",
      "        [  6, 125,   4,   3,   1,   1,   1,   1]], dtype=torch.int32)\n",
      "valid lengths for X: tensor([4, 4])\n",
      "Y: tensor([[  0,   0,   4,   3,   1,   1,   1,   1],\n",
      "        [  6,  27,   7,   0, 133,   4,   3,   1]], dtype=torch.int32)\n",
      "valid lengths for Y: tensor([4, 7])\n"
     ]
    }
   ],
   "source": [
    "train_iter, src_vocab, tgt_vocab = load_data_nmt(batch_size=2, num_steps=8)\n",
    "# 试验一下\n",
    "for X, X_valid_len, Y, Y_valid_len in train_iter:\n",
    "    print('X:', X.type(torch.int32))\n",
    "    print('valid lengths for X:', X_valid_len)\n",
    "    print('Y:', Y.type(torch.int32))\n",
    "    print('valid lengths for Y:', Y_valid_len)\n",
    "    break"
   ]
  },
  {
   "cell_type": "code",
   "execution_count": null,
   "metadata": {},
   "outputs": [],
   "source": []
  }
 ],
 "metadata": {
  "kernelspec": {
   "display_name": "Python 3",
   "language": "python",
   "name": "python3"
  },
  "language_info": {
   "codemirror_mode": {
    "name": "ipython",
    "version": 3
   },
   "file_extension": ".py",
   "mimetype": "text/x-python",
   "name": "python",
   "nbconvert_exporter": "python",
   "pygments_lexer": "ipython3",
   "version": "3.8.3"
  }
 },
 "nbformat": 4,
 "nbformat_minor": 4
}

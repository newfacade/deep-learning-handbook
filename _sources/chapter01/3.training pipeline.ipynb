{
 "cells": [
  {
   "cell_type": "markdown",
   "metadata": {},
   "source": [
    "# 图像分类Pipeline\n",
    "\n",
    "```{note}\n",
    "图像分类型任务训练时的pipeline都是类似的，只是模型和数据集不同<br/>\n",
    "所以我们可以先定义好训练图像分类的函数，模型和数据集作其参数，这样会很方便\n",
    "```"
   ]
  },
  {
   "cell_type": "markdown",
   "metadata": {},
   "source": [
    "## 一些辅助函数和类"
   ]
  },
  {
   "cell_type": "code",
   "execution_count": 1,
   "metadata": {},
   "outputs": [],
   "source": [
    "import torch\n",
    "import d2l\n",
    "\n",
    "\n",
    "#@save\n",
    "def try_gpu():\n",
    "    \"\"\"尽量使用gpu\"\"\"\n",
    "    return torch.device(\"cuda\") if torch.cuda.is_available() else torch.device(\"cpu\")"
   ]
  },
  {
   "cell_type": "code",
   "execution_count": 2,
   "metadata": {},
   "outputs": [],
   "source": [
    "#@save\n",
    "class Accumulator:\n",
    "    \"\"\"累计n个数据\"\"\"\n",
    "    \n",
    "    def __init__(self, n):\n",
    "        self.data = [0.0] * n\n",
    "\n",
    "    def add(self, *args):\n",
    "        self.data = [a + float(b) for a, b in zip(self.data, args)]\n",
    "\n",
    "    def reset(self):\n",
    "        self.data = [0.0] * len(self.data)\n",
    "\n",
    "    def __getitem__(self, idx):\n",
    "        return self.data[idx]"
   ]
  },
  {
   "cell_type": "code",
   "execution_count": 3,
   "metadata": {},
   "outputs": [],
   "source": [
    "#@save\n",
    "def correct_predictions(y_hat, y):\n",
    "    \"\"\"\n",
    "    :param y_hat: (n_samples, n_categories)\n",
    "    :param y: (n_samples, )\n",
    "    :return: 正确预测的个数\n",
    "    \"\"\"\n",
    "    y_hat = y_hat.argmax(axis=1)  # across columns\n",
    "    is_correct = y_hat.type(y.dtype) == y\n",
    "    return float(is_correct.type(y.dtype).sum())"
   ]
  },
  {
   "cell_type": "code",
   "execution_count": 4,
   "metadata": {},
   "outputs": [],
   "source": [
    "#@save\n",
    "def accuracy(net, data_iter, device):\n",
    "    \"\"\"\n",
    "    :param net: 模型\n",
    "    :param data_iter: 图像分类数据集\n",
    "    :param device: 尽量使用GPU\n",
    "    :return: 模型的准确率，这里使用了Accumulator和correct_predictions\n",
    "    \"\"\"\n",
    "    net.eval()  # Set the model to evaluation mode\n",
    "    metric = d2l.Accumulator(2)  # No. of correct predictions, no. of predictions\n",
    "    # 预测时需no_grad\n",
    "    with torch.no_grad():\n",
    "        for X, y in data_iter:\n",
    "            X, y = X.to(device), y.to(device)\n",
    "            # y.numel()表示y中的数据数\n",
    "            metric.add(d2l.correct_predictions(net(X), y), y.numel())\n",
    "    return metric[0] / metric[1]"
   ]
  },
  {
   "cell_type": "markdown",
   "metadata": {},
   "source": [
    "## 训练图像分类的函数"
   ]
  },
  {
   "cell_type": "code",
   "execution_count": 5,
   "metadata": {},
   "outputs": [],
   "source": [
    "#@save\n",
    "def train_image_classifier(net, train_iter, test_iter, learning_rate, num_epochs):\n",
    "    \"\"\"\n",
    "    训练图像分类器，记录数据并打印\n",
    "    e.g. training FashionMNIST\n",
    "    \"\"\"\n",
    "    device = d2l.try_gpu()\n",
    "    # 需模型和数据均转向device\n",
    "    net.to(device=device)\n",
    "    loss_fn = nn.CrossEntropyLoss()\n",
    "    optimizer = torch.optim.Adam(net.parameters(), lr=learning_rate)\n",
    "    # 记录误差和、正确预测样本数、总样本数\n",
    "    metric = d2l.Accumulator(3)\n",
    "    for epoch in range(num_epochs):\n",
    "        net.train()  # 因为计算accuracy会使net转向eval模式\n",
    "        metric.reset()\n",
    "        for x, y in train_iter:\n",
    "            # Compute prediction error\n",
    "            x, y = x.to(device), y.to(device)\n",
    "            y_hat = net(x)\n",
    "            loss = loss_fn(y_hat, y)\n",
    "\n",
    "            # Backpropagation\n",
    "            optimizer.zero_grad()\n",
    "            loss.backward()\n",
    "            optimizer.step()\n",
    "            # 记录数据\n",
    "            metric.add(float(loss) * len(y), d2l.correct_predictions(y_hat, y), y.numel())\n",
    "        # 打印数据\n",
    "        print(f\"epoch {epoch + 1:<2}, \"\n",
    "              f\"loss {metric[0] / metric[2]:.4f}, \"\n",
    "              f\"train acc {metric[1] / metric[2]:.4f}, \"\n",
    "              f\"test acc {d2l.accuracy(net, test_iter, device):.4f}\")"
   ]
  },
  {
   "cell_type": "markdown",
   "metadata": {},
   "source": [
    "分类问题的损失函数CrossEntropyLoss的计算公式:\n",
    "\n",
    "$$\\mbox{loss}(x, class) = -\\mbox{log}\\left(\\frac{\\mbox{exp}(x[class])}{\\sum_{j}\\mbox{exp}(x[j])}\\right) = -x[class] + \\log\\left ({\\sum_{j}\\exp({x[j]})}\\right )$$"
   ]
  },
  {
   "cell_type": "code",
   "execution_count": null,
   "metadata": {},
   "outputs": [],
   "source": []
  }
 ],
 "metadata": {
  "kernelspec": {
   "display_name": "Python 3",
   "language": "python",
   "name": "python3"
  },
  "language_info": {
   "codemirror_mode": {
    "name": "ipython",
    "version": 3
   },
   "file_extension": ".py",
   "mimetype": "text/x-python",
   "name": "python",
   "nbconvert_exporter": "python",
   "pygments_lexer": "ipython3",
   "version": "3.8.3"
  }
 },
 "nbformat": 4,
 "nbformat_minor": 4
}

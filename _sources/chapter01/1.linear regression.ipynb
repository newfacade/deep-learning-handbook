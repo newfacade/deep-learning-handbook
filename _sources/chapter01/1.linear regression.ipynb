{
 "cells": [
  {
   "cell_type": "markdown",
   "metadata": {},
   "source": [
    "# 线性回归\n",
    "\n",
    "```{note}\n",
    "我们以线性回归为例，来展示使用pytorch训练模型的基本步骤:<br/>\n",
    "1. 载入数据\n",
    "2. 定义模型、损失函数和优化器\n",
    "3. 训练\n",
    "```"
   ]
  },
  {
   "cell_type": "markdown",
   "metadata": {},
   "source": [
    "## 载入数据"
   ]
  },
  {
   "cell_type": "code",
   "execution_count": 1,
   "metadata": {},
   "outputs": [
    {
     "data": {
      "text/plain": [
       "((506, 13), (506,))"
      ]
     },
     "execution_count": 1,
     "metadata": {},
     "output_type": "execute_result"
    }
   ],
   "source": [
    "from sklearn.datasets import load_boston\n",
    "\n",
    "# 载入boston房价数据集\n",
    "X, y = load_boston(return_X_y=True)\n",
    "X.shape, y.shape"
   ]
  },
  {
   "cell_type": "code",
   "execution_count": 2,
   "metadata": {},
   "outputs": [],
   "source": [
    "from sklearn.preprocessing import StandardScaler\n",
    "import numpy as  np\n",
    "\n",
    "# 数据标准化: z = (x - u) / s\n",
    "# 为什么要标准化在《机器学习手册》中有详解，简而言之就是为了保持各个特征之间量纲一致，避免z字形梯度下降\n",
    "X_scaled = StandardScaler().fit_transform(X)"
   ]
  },
  {
   "cell_type": "code",
   "execution_count": 3,
   "metadata": {},
   "outputs": [],
   "source": [
    "import torch\n",
    "from torch.utils import data\n",
    "\n",
    "# ndarray转化成tensor\n",
    "# 需使用float()将dtype转化为torch.float32\n",
    "# target size should be: (n_samples, 1)\n",
    "features = torch.from_numpy(X_scaled).float()\n",
    "labels = torch.from_numpy(y).float().reshape(-1, 1)\n",
    "\n",
    "#@save\n",
    "def load_array(tensors, batch_size, is_train=True):\n",
    "    \"\"\"使用tensors创建data iter\"\"\"\n",
    "    dataset = data.TensorDataset(*tensors)\n",
    "    return data.DataLoader(dataset, batch_size, shuffle=is_train)\n",
    "\n",
    "batch_size = 16\n",
    "data_iter = load_array((features, labels), batch_size)"
   ]
  },
  {
   "cell_type": "markdown",
   "metadata": {},
   "source": [
    "```{tip}\n",
    "那些会复用的函数或类的开头会打上#@save标记，它们会保存在d2l.py中，这样其他地方若需要使用只需：import d2l\n",
    "```"
   ]
  },
  {
   "cell_type": "markdown",
   "metadata": {},
   "source": [
    "## 定义三要素\n",
    "\n",
    "![jupyter](../images/a/linear.svg)"
   ]
  },
  {
   "cell_type": "code",
   "execution_count": 4,
   "metadata": {},
   "outputs": [],
   "source": [
    "from torch import nn\n",
    "\n",
    "# 定义模型\n",
    "model = nn.Sequential(nn.Linear(features.shape[1], 1))\n",
    "# 定义损失函数\n",
    "loss_fn = nn.MSELoss()\n",
    "# 定义优化器\n",
    "optimizer = torch.optim.SGD(model.parameters(), lr=0.03)"
   ]
  },
  {
   "cell_type": "markdown",
   "metadata": {},
   "source": [
    "## 训练"
   ]
  },
  {
   "cell_type": "code",
   "execution_count": 5,
   "metadata": {},
   "outputs": [
    {
     "name": "stdout",
     "output_type": "stream",
     "text": [
      "epoch 1, loss 33.328892\n",
      "epoch 2, loss 23.420704\n",
      "epoch 3, loss 23.147802\n",
      "epoch 4, loss 22.696537\n",
      "epoch 5, loss 23.075350\n"
     ]
    }
   ],
   "source": [
    "num_epochs = 5\n",
    "for epoch in range(num_epochs):\n",
    "    # 循环获取数据\n",
    "    for X, y in data_iter:\n",
    "        # Compute prediction error\n",
    "        y_hat = model(X)\n",
    "        loss = loss_fn(y_hat, y)\n",
    "        \n",
    "        # Backpropagation\n",
    "        optimizer.zero_grad()\n",
    "        loss.backward()\n",
    "        optimizer.step()\n",
    "    print(f'epoch {epoch + 1}, loss {loss_fn(model(features), labels):f}')"
   ]
  },
  {
   "cell_type": "code",
   "execution_count": null,
   "metadata": {},
   "outputs": [],
   "source": []
  }
 ],
 "metadata": {
  "kernelspec": {
   "display_name": "Python 3",
   "language": "python",
   "name": "python3"
  },
  "language_info": {
   "codemirror_mode": {
    "name": "ipython",
    "version": 3
   },
   "file_extension": ".py",
   "mimetype": "text/x-python",
   "name": "python",
   "nbconvert_exporter": "python",
   "pygments_lexer": "ipython3",
   "version": "3.8.3"
  }
 },
 "nbformat": 4,
 "nbformat_minor": 4
}

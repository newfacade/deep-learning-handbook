{
 "cells": [
  {
   "cell_type": "markdown",
   "metadata": {},
   "source": [
    "# Softmax回归\n",
    "\n",
    "```{note}\n",
    "本节用最简单的softmax回归（实际上就是单层神经网络）来实现图像分类，主要目的是为了跑通流程\n",
    "```"
   ]
  },
  {
   "cell_type": "markdown",
   "metadata": {},
   "source": [
    "## 定义模型\n",
    "\n",
    "![jupyter](../images/a/softmax.svg)"
   ]
  },
  {
   "cell_type": "code",
   "execution_count": 1,
   "metadata": {},
   "outputs": [
    {
     "data": {
      "text/plain": [
       "Sequential(\n",
       "  (0): Flatten(start_dim=1, end_dim=-1)\n",
       "  (1): Linear(in_features=784, out_features=10, bias=True)\n",
       ")"
      ]
     },
     "execution_count": 1,
     "metadata": {},
     "output_type": "execute_result"
    }
   ],
   "source": [
    "import torch\n",
    "from torch import nn\n",
    "\n",
    "\n",
    "def init_weights(m):\n",
    "    \"\"\"initialize at random\"\"\"\n",
    "    if type(m) == nn.Linear:\n",
    "        # 赋值操作都带_\n",
    "        nn.init.normal_(m.weight, std=0.01)\n",
    "        \n",
    "\n",
    "# softmax模型\n",
    "# fashion-mnist数据集每个样本的shape为(1, 28, 28)，所以需要先Flatten到1*28*28=784维\n",
    "net = nn.Sequential(nn.Flatten(), nn.Linear(784, 10))\n",
    "# 循环各层调用init_weights\n",
    "net.apply(init_weights)"
   ]
  },
  {
   "cell_type": "markdown",
   "metadata": {},
   "source": [
    "## 训练"
   ]
  },
  {
   "cell_type": "code",
   "execution_count": 2,
   "metadata": {},
   "outputs": [],
   "source": [
    "import d2l\n",
    "\n",
    "# 1.获取数据\n",
    "batch_size = 256\n",
    "train_iter, test_iter = d2l.load_data_fashion_mnist(batch_size=batch_size)"
   ]
  },
  {
   "cell_type": "code",
   "execution_count": 3,
   "metadata": {},
   "outputs": [
    {
     "name": "stdout",
     "output_type": "stream",
     "text": [
      "epoch 1 , loss 0.5750, train acc 0.7996, test acc 0.8322\n",
      "epoch 2 , loss 0.4519, train acc 0.8444, test acc 0.8331\n",
      "epoch 3 , loss 0.4381, train acc 0.8485, test acc 0.8337\n",
      "epoch 4 , loss 0.4397, train acc 0.8493, test acc 0.8426\n",
      "epoch 5 , loss 0.4173, train acc 0.8549, test acc 0.8327\n",
      "epoch 6 , loss 0.4174, train acc 0.8548, test acc 0.8339\n",
      "epoch 7 , loss 0.4101, train acc 0.8579, test acc 0.8295\n",
      "epoch 8 , loss 0.4083, train acc 0.8576, test acc 0.8363\n",
      "epoch 9 , loss 0.4109, train acc 0.8568, test acc 0.8307\n",
      "epoch 10, loss 0.4061, train acc 0.8593, test acc 0.8372\n"
     ]
    }
   ],
   "source": [
    "# 2.训练，用上一节定义好的函数进行训练果然很方便~\n",
    "lr, num_epochs = 0.01, 10\n",
    "d2l.train_image_classifier(net, train_iter, test_iter, lr, num_epochs)"
   ]
  },
  {
   "cell_type": "code",
   "execution_count": null,
   "metadata": {},
   "outputs": [],
   "source": []
  }
 ],
 "metadata": {
  "kernelspec": {
   "display_name": "Python 3",
   "language": "python",
   "name": "python3"
  },
  "language_info": {
   "codemirror_mode": {
    "name": "ipython",
    "version": 3
   },
   "file_extension": ".py",
   "mimetype": "text/x-python",
   "name": "python",
   "nbconvert_exporter": "python",
   "pygments_lexer": "ipython3",
   "version": "3.8.3"
  }
 },
 "nbformat": 4,
 "nbformat_minor": 4
}

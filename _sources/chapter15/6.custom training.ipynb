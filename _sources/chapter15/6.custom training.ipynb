{
 "cells": [
  {
   "cell_type": "markdown",
   "metadata": {},
   "source": [
    "# 自定义训练循环\n",
    "\n",
    "```{note}\n",
    "在极少数情况下，fit()方法可能不够灵活而无法满足需要，这时就需要自定义训练循环。\n",
    "```"
   ]
  },
  {
   "cell_type": "markdown",
   "metadata": {},
   "source": [
    "## 准备工作\n",
    "\n",
    "用例子来说明"
   ]
  },
  {
   "cell_type": "code",
   "execution_count": 1,
   "metadata": {},
   "outputs": [],
   "source": [
    "import tensorflow as tf\n",
    "from tensorflow  import keras\n",
    "import utils\n",
    "\n",
    "# 获取模型和数据集\n",
    "model = keras.models.load_model(\"my_housing_model\")\n",
    "(X_train, y_train), (X_val, y_val), (X_test, y_test) = utils.load_california_housing()"
   ]
  },
  {
   "cell_type": "code",
   "execution_count": 2,
   "metadata": {},
   "outputs": [],
   "source": [
    "import numpy as np\n",
    "\n",
    "\n",
    "def random_batch(X, y, batch_size=32):\n",
    "    # 获得随机的batch\n",
    "    idx = np.random.randint(len(X), size=batch_size)\n",
    "    return X[idx], y[idx]"
   ]
  },
  {
   "cell_type": "code",
   "execution_count": 3,
   "metadata": {},
   "outputs": [],
   "source": [
    "def print_status_bar(iteration, total, loss, metrics=None):\n",
    "    # 打印损失和指标\n",
    "    metrics = \" - \".join([\"{}: {:.4f}\".format(m.name, m.result())\n",
    "                         for m in [loss] + (metrics or [])])\n",
    "    # 每个epoch换一行\n",
    "    end = \"\" if iteration < total else \"\\n\"\n",
    "    # \\r将光标移到行首\n",
    "    print(\"\\r{}/{} - \".format(iteration, total) + metrics, end=end)"
   ]
  },
  {
   "cell_type": "code",
   "execution_count": 4,
   "metadata": {},
   "outputs": [],
   "source": [
    "n_epochs = 5\n",
    "batch_size = 32\n",
    "n_steps = len(X_train) // batch_size\n",
    "# 优化器，损失函数，平均holder，指标\n",
    "optimizer = keras.optimizers.Nadam(learning_rate=0.01)\n",
    "loss_fn = keras.losses.mean_squared_error\n",
    "mean_loss = keras.metrics.Mean()\n",
    "metrics = [keras.metrics.MeanAbsoluteError()]"
   ]
  },
  {
   "cell_type": "markdown",
   "metadata": {},
   "source": [
    "## 循环"
   ]
  },
  {
   "cell_type": "code",
   "execution_count": 5,
   "metadata": {},
   "outputs": [
    {
     "name": "stdout",
     "output_type": "stream",
     "text": [
      "Epoch 1/5\n",
      "11610/11610 - mean: 1.5009 - mean_absolute_error: 0.9104\n",
      "Epoch 2/5\n",
      "11610/11610 - mean: 2.5215 - mean_absolute_error: 0.9303\n",
      "Epoch 3/5\n",
      "11610/11610 - mean: 1.6988 - mean_absolute_error: 0.9081\n",
      "Epoch 4/5\n",
      "11610/11610 - mean: 1.5036 - mean_absolute_error: 0.8840\n",
      "Epoch 5/5\n",
      "11610/11610 - mean: 1.3136 - mean_absolute_error: 0.8738\n"
     ]
    }
   ],
   "source": [
    "for epoch in range(1, n_epochs + 1):\n",
    "    print(\"Epoch {}/{}\".format(epoch, n_epochs))\n",
    "    for step in range(1, n_steps + 1):\n",
    "        # get batch\n",
    "        X_batch, y_batch = random_batch(X_train, y_train)\n",
    "        # 计算损失，GradientTape()内自动微分\n",
    "        with tf.GradientTape() as tape:\n",
    "            y_pred = model(X_batch)\n",
    "            main_loss = tf.reduce_mean(loss_fn(y_batch, y_pred))\n",
    "            # 加上如正则化之类的结构损失\n",
    "            loss = tf.add_n([main_loss] + model.losses)\n",
    "        # 反向传播\n",
    "        gradients = tape.gradient(loss, model.trainable_variables)\n",
    "        # 梯度下降\n",
    "        optimizer.apply_gradients(zip(gradients, model.trainable_variables))\n",
    "        # 记录平均损失\n",
    "        mean_loss(loss)\n",
    "        # 记录指标\n",
    "        for metric in metrics:\n",
    "            metric(y_batch, y_pred)\n",
    "        # 打印损失和指标\n",
    "        print_status_bar(step * batch_size, len(y_train), mean_loss, metrics)\n",
    "    # epoch末打印\n",
    "    print_status_bar(len(y_train), len(y_train), mean_loss, metrics)\n",
    "    # 重置\n",
    "    for metric in [mean_loss] + metrics:\n",
    "        metric.reset_states()"
   ]
  },
  {
   "cell_type": "code",
   "execution_count": null,
   "metadata": {},
   "outputs": [],
   "source": []
  }
 ],
 "metadata": {
  "kernelspec": {
   "display_name": "Python 3",
   "language": "python",
   "name": "python3"
  },
  "language_info": {
   "codemirror_mode": {
    "name": "ipython",
    "version": 3
   },
   "file_extension": ".py",
   "mimetype": "text/x-python",
   "name": "python",
   "nbconvert_exporter": "python",
   "pygments_lexer": "ipython3",
   "version": "3.8.3"
  }
 },
 "nbformat": 4,
 "nbformat_minor": 4
}

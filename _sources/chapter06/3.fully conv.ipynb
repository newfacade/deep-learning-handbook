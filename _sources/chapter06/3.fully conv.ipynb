{
 "cells": [
  {
   "cell_type": "markdown",
   "metadata": {},
   "source": [
    "# 全卷积网络\n",
    "\n",
    "```{note}\n",
    "全卷积网络 (fully convolutional network，FCN) 采用卷积层和转置卷积层实现了从图像像素到像素类别的变换，使得能对图像中的每个像素分类。\n",
    "```"
   ]
  },
  {
   "cell_type": "markdown",
   "metadata": {},
   "source": [
    "## 模型\n",
    "\n",
    "全卷积网络先使用卷积神经网络抽取图像特征\n",
    "\n",
    "然后通过 $1\\times{1}$ 卷积层将通道数变换为类别个数\n",
    "\n",
    "最后通过转置卷积层将特征图的高和宽变换为输入图像的尺寸\n",
    "\n",
    "![image](../images/e/fcn.svg)"
   ]
  },
  {
   "cell_type": "code",
   "execution_count": null,
   "metadata": {},
   "outputs": [],
   "source": []
  }
 ],
 "metadata": {
  "kernelspec": {
   "display_name": "Python 3",
   "language": "python",
   "name": "python3"
  },
  "language_info": {
   "codemirror_mode": {
    "name": "ipython",
    "version": 3
   },
   "file_extension": ".py",
   "mimetype": "text/x-python",
   "name": "python",
   "nbconvert_exporter": "python",
   "pygments_lexer": "ipython3",
   "version": "3.8.3"
  }
 },
 "nbformat": 4,
 "nbformat_minor": 4
}

{
 "cells": [
  {
   "cell_type": "markdown",
   "metadata": {},
   "source": [
    "# Attention Scoring Functions\n",
    "\n",
    "As nadaraya-watson kernel regression, the main type of attention mechanism:\n",
    "\n",
    "![jupyter](../images/10/attention-output.svg)\n",
    "\n",
    "Mathematically, suppose that we have a query  $\\mathbf{q}\\in\\mathbb{R}^{q}$  and  $m$  key-value pairs  $(\\mathbf{k}_{1}, \\mathbf{v}_{1}),...,(\\mathbf{k}_{m}, \\mathbf{v}_{m})$  where  $\\mathbf{k}_{i}\\in\\mathbb{R}^{k}$  and  $\\mathbf{v}_{i}\\in\\mathbb{R}^{v}$ . \n",
    "\n",
    "The attention pooling  𝑓  is a weighted sum of the values:\n",
    "\n",
    "$$f(\\mathbf{q}, (\\mathbf{k}_{1}, \\mathbf{v}_{1}),...,(\\mathbf{k}_{m}, \\mathbf{v}_{m})) = \\sum_{i=1}^{m}\\frac{\\exp(a(\\mathbf{q}, \\mathbf{k}_{i}))}{\\sum_{j=1}^{m}\\exp(a(\\mathbf{q}, \\mathbf{k}_{j}))}\\mathbf{v}_{i}\\in\\mathbb{R}^{v}$$\n",
    "\n",
    "where $a$ is the attention scoring function."
   ]
  },
  {
   "cell_type": "markdown",
   "metadata": {},
   "source": [
    "## Masked Softmax Operation\n",
    "\n",
    "In some cases, not all the values should be fed into attention pooling, e.g. padding tokens."
   ]
  },
  {
   "cell_type": "code",
   "execution_count": 1,
   "metadata": {},
   "outputs": [],
   "source": [
    "import torch\n",
    "from torch import nn\n",
    "import d2l"
   ]
  },
  {
   "cell_type": "code",
   "execution_count": 2,
   "metadata": {},
   "outputs": [],
   "source": [
    "#@save\n",
    "def masked_softmax(X, valid_lens):\n",
    "    \"\"\"Perform softmax operation by masking elements on the last axis.\"\"\"\n",
    "    # `X`: 3D tensor, `valid_lens`: 1D or 2D tensor\n",
    "    shape = X.shape\n",
    "    if valid_lens.dim() == 1:\n",
    "        valid_lens = torch.repeat_interleave(valid_lens, shape[1])\n",
    "    else:\n",
    "        valid_lens = valid_lens.reshape(-1)\n",
    "    # On the last axis, replace masked elements with a very large negative\n",
    "    # value, whose exponentiation outputs 0\n",
    "    X = d2l.sequence_mask(X.reshape(-1, shape[-1]), valid_lens, \n",
    "                          value=-1e6)\n",
    "    return nn.functional.softmax(X.reshape(shape), dim=-1)"
   ]
  },
  {
   "cell_type": "markdown",
   "metadata": {},
   "source": [
    "## Additive Attention\n",
    "\n",
    "In general, when queries and keys are vectors of different lengths, we can use additive attention as the scoring function.\n",
    "\n",
    "Given a query  $\\mathbf{q} \\in \\mathbb{R}^{q}$  and a key  $\\mathbf{k} \\in \\mathbb{R}^{k}$ , the additive attention scoring function\n",
    "\n",
    "$$a(\\mathbf{q}, \\mathbf{k}) = \\mathbf{w}_{h}^{T}\\mbox{tanh}(\\mathbf{W}_{q}\\mathbf{q} + \\mathbf{W}_{k}\\mathbf{k})$$\n",
    "\n",
    "where learnable parameters $\\mathbf{W}_{q} \\in \\mathbb{R}^{h\\times{q}}, \\mathbf{W}_{k} \\in \\mathbb{R}^{h\\times{k}}$, and $\\mathbf{w}_{h} \\in \\mathbb{R}^{h}$."
   ]
  },
  {
   "cell_type": "code",
   "execution_count": 3,
   "metadata": {},
   "outputs": [],
   "source": [
    "#@save\n",
    "class AdditiveAttention(nn.Module):\n",
    "    def __init__(self, key_size, query_size, num_hiddens, dropout):\n",
    "        super(AdditiveAttention, self).__init__()\n",
    "        self.W_k = nn.Linear(key_size, num_hiddens, bias=False)\n",
    "        self.W_q = nn.Linear(query_size, num_hiddens, bias=False)\n",
    "        self.w_v = nn.Linear(num_hiddens, 1, bias=False)\n",
    "        self.dropout = nn.Dropout(dropout)\n",
    "\n",
    "    def forward(self, queries, keys, values, valid_lens):\n",
    "        # `queries` shape: (`batch_size`, no. of queries, `query_size`)\n",
    "        # `keys` shape: (`batch_size`, no. of key-value pairs, `key_size`)\n",
    "        # `values` shape: (`batch_size`, no. of key-value pairs, `value_size`)\n",
    "        # `valid_lens` shape: either (`batch_size`,) or (`batch_size`, no. of queries)\n",
    "        queries, keys = self.W_q(queries), self.W_k(keys)\n",
    "        # After dimension expansion, shape of `queries`: (`batch_size`, no. of\n",
    "        # queries, 1, `num_hiddens`) and shape of `keys`: (`batch_size`, 1,\n",
    "        # no. of key-value pairs, `num_hiddens`). Sum them up with broadcasting\n",
    "        features = queries.unsqueeze(2) + keys.unsqueeze(1)\n",
    "        features = torch.tanh(features)\n",
    "        # Shape of `scores`: (`batch_size`, no. of queries, no. of key-value pairs)\n",
    "        scores = self.w_v(features).squeeze(-1)\n",
    "        self.attention_weights = masked_softmax(scores, valid_lens)\n",
    "        # Output shape: (`batch_size`, no. of queries, `value_size`)\n",
    "        return torch.bmm(self.dropout(self.attention_weights), values)"
   ]
  },
  {
   "cell_type": "markdown",
   "metadata": {},
   "source": [
    "### Scaled Dot-Product Attention\n",
    "\n",
    "A more computationally efficient design is dot product, it requires the query and the key have the same size, say  $d$ .\n",
    "\n",
    "To retain variance, the dot-product divides by  $\\sqrt{d}$ :\n",
    "\n",
    "$$a(\\mathbf{q}, \\mathbf{k}) = \\frac{\\mathbf{q}^{T}\\mathbf{k}}{\\sqrt{d}}$$\n",
    "\n",
    "Computing in minibatches, the scaled dot-product attention of queries  $\\mathbf{Q}\\in\\mathbb{R}^{n\\times{d}}$ , keys  $\\mathbf{K}\\in\\mathbb{R}^{m\\times{d}}$ , and values  $\\mathbf{V}\\in\\mathbb{R}^{m\\times{v}}$  is:\n",
    "\n",
    "$$\\mathrm{softmax}\\left(\\frac{\\mathbf{Q}\\mathbf{K}^{T}}{\\sqrt{d}}\\right)\\mathbf{V} \\in \\mathbb{R}^{n\\times{v}}$$"
   ]
  },
  {
   "cell_type": "code",
   "execution_count": 4,
   "metadata": {},
   "outputs": [],
   "source": [
    "#@save\n",
    "class DotProductAttention(nn.Module):\n",
    "    \"\"\"Scaled dot product attention.\"\"\"\n",
    "    def __init__(self, dropout):\n",
    "        super(DotProductAttention, self).__init__()\n",
    "        self.dropout = nn.Dropout(dropout)\n",
    "\n",
    "    def forward(self, queries, keys, values, valid_lens=None):\n",
    "        # Shape of `queries`: (`batch_size`, no. of queries, `d`)\n",
    "        # Shape of `keys`: (`batch_size`, no. of key-value pairs, `d`)\n",
    "        # Shape of `values`: (`batch_size`, no. of key-value pairs, `value_size`)\n",
    "        # Shape of `valid_lens`: (`batch_size`,) or (`batch_size`, no. of queries)\n",
    "        d = queries.shape[-1]\n",
    "        # Shape of `scores`: (`batch_size`, no. of queries, no. of key-value pairs)\n",
    "        scores = torch.bmm(queries, keys.transpose(1, 2)) / math.sqrt(d)\n",
    "        self.attention_weights = masked_softmax(scores, valid_lens)\n",
    "        # Output shape: (`batch_size`, no. of queries, `value_size`)\n",
    "        return torch.bmm(self.dropout(self.attention_weights), values)"
   ]
  },
  {
   "cell_type": "code",
   "execution_count": null,
   "metadata": {},
   "outputs": [],
   "source": []
  }
 ],
 "metadata": {
  "kernelspec": {
   "display_name": "Python 3",
   "language": "python",
   "name": "python3"
  },
  "language_info": {
   "codemirror_mode": {
    "name": "ipython",
    "version": 3
   },
   "file_extension": ".py",
   "mimetype": "text/x-python",
   "name": "python",
   "nbconvert_exporter": "python",
   "pygments_lexer": "ipython3",
   "version": "3.8.3"
  }
 },
 "nbformat": 4,
 "nbformat_minor": 4
}

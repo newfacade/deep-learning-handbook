{
 "cells": [
  {
   "cell_type": "markdown",
   "metadata": {},
   "source": [
    "# 注意力评分函数\n",
    "\n",
    "假设有一个查询  $\\mathbf{q}\\in\\mathbb{R}^{q}$  和  $m$  个键-值对  $(\\mathbf{k}_{1}, \\mathbf{v}_{1}),...,(\\mathbf{k}_{m}, \\mathbf{v}_{m})$，其中 $\\mathbf{k}_{i}\\in\\mathbb{R}^{k}$ ，$\\mathbf{v}_{i}\\in\\mathbb{R}^{v}$ 。注意力汇聚函数就被表示成值的加权和：\n",
    "\n",
    "$$f(\\mathbf{q}, (\\mathbf{k}_{1}, \\mathbf{v}_{1}),...,(\\mathbf{k}_{m}, \\mathbf{v}_{m})) = \\sum_{i=1}^{m}\\frac{\\exp(a(\\mathbf{q}, \\mathbf{k}_{i}))}{\\sum_{j=1}^{m}\\exp(a(\\mathbf{q}, \\mathbf{k}_{j}))}\\mathbf{v}_{i}\\in\\mathbb{R}^{v}$$\n",
    "\n",
    "注意力评分函数 $a$ 将查询 $\\mathbf{q}$ 和键 $\\mathbf{k}_{i}$ 两个向量映射成了标量 $a(\\mathbf{q}, \\mathbf{k}_{i})$，表示键对值的注意力。\n",
    "\n",
    "有很多种不同的注意力评分函数，本节介绍其中较流行的两种：加性注意力（additive attention）和缩放点积注意力（scaled dot-product attention）。\n",
    "\n",
    "![jupyter](../images/10/attention-output.svg)"
   ]
  },
  {
   "cell_type": "markdown",
   "metadata": {},
   "source": [
    "## 带遮蔽的softmax\n",
    "\n",
    "正如上面公式中所示，softmax运算用于输出一个概率分布作为注意力权重。\n",
    "\n",
    "但是在很多时候，并非所有的值都应被纳入注意力汇聚中，比如说文本序列中的填充词元。\n",
    "\n",
    "下面的函数实现了这样的遮蔽softmax。"
   ]
  },
  {
   "cell_type": "code",
   "execution_count": 1,
   "metadata": {},
   "outputs": [],
   "source": [
    "import torch\n",
    "from torch import nn\n",
    "import d2l\n",
    "\n",
    "\n",
    "#@save\n",
    "def masked_softmax(X, valid_lens):\n",
    "    \"\"\"实现带遮蔽的softmax\"\"\"\n",
    "    # shape of X: (`batch_size`, no. of queries, no. of key-value pairs)\n",
    "    # shape of valid_lens: None or (`batch_size`,) or (`batch_size`, no. of queries)\n",
    "    if valid_lens is None:\n",
    "        return nn.functional.softmax(X, dim=-1)\n",
    "    else:\n",
    "        shape = X.shape\n",
    "        # 将valid_lens转化为(`batch_size` * no. of queries)\n",
    "        if valid_lens.dim() == 1:\n",
    "            valid_lens = torch.repeat_interleave(valid_lens, shape[1])\n",
    "        else:\n",
    "            valid_lens = valid_lens.reshape(-1)\n",
    "        # 在最后的轴上，遮蔽的元素被替换成一个非常大的负值，其指数约为0\n",
    "        X = d2l.sequence_mask(X.reshape(-1, shape[-1]), valid_lens, \n",
    "                              value=-1e6)\n",
    "        return nn.functional.softmax(X.reshape(shape), dim=-1)"
   ]
  },
  {
   "cell_type": "markdown",
   "metadata": {},
   "source": [
    "## 加性注意力\n",
    "\n",
    "一般来说，当查询和键是不同长度的矢量时，可以通过加性注意力作为评分函数。\n",
    "\n",
    "给定查询  $\\mathbf{q} \\in \\mathbb{R}^{q}$  和键  $\\mathbf{k} \\in \\mathbb{R}^{k}$，加性注意力评分函数：\n",
    "\n",
    "$$a(\\mathbf{q}, \\mathbf{k}) = \\mathbf{w}_{h}^{T}\\mbox{tanh}(\\mathbf{W}_{q}\\mathbf{q} + \\mathbf{W}_{k}\\mathbf{k})$$\n",
    "\n",
    "其中可学习的参数是 $\\mathbf{W}_{q} \\in \\mathbb{R}^{h\\times{q}}, \\mathbf{W}_{k} \\in \\mathbb{R}^{h\\times{k}}$ 和 $\\mathbf{w}_{h} \\in \\mathbb{R}^{h}$。"
   ]
  },
  {
   "cell_type": "code",
   "execution_count": 2,
   "metadata": {},
   "outputs": [],
   "source": [
    "#@save\n",
    "class AdditiveAttention(nn.Module):\n",
    "    \"\"\"加性注意力\"\"\"\n",
    "    def __init__(self, key_size, query_size, num_hiddens, dropout):\n",
    "        super(AdditiveAttention, self).__init__()\n",
    "        self.W_k = nn.Linear(key_size, num_hiddens, bias=False)\n",
    "        self.W_q = nn.Linear(query_size, num_hiddens, bias=False)\n",
    "        self.w_v = nn.Linear(num_hiddens, 1, bias=False)\n",
    "        self.dropout = nn.Dropout(dropout)\n",
    "\n",
    "    def forward(self, queries, keys, values, valid_lens):\n",
    "        # shape of queries: (`batch_size`, no. of queries, `query_size`)\n",
    "        # shape of keys: (`batch_size`, no. of key-value pairs, `key_size`)\n",
    "        # shape of values: (`batch_size`, no. of key-value pairs, `value_size`)\n",
    "        # shape of valid_lens: either (`batch_size`,) or (`batch_size`, no. of queries)\n",
    "        queries, keys = self.W_q(queries), self.W_k(keys)\n",
    "        # After dimension expansion, \n",
    "        # shape of queries: (`batch_size`, no. of queries, 1, `num_hiddens`)\n",
    "        # shape of keys: (`batch_size`, 1, no. of key-value pairs, `num_hiddens`). \n",
    "        # 使用广播方式进行求和\n",
    "        features = queries.unsqueeze(2) + keys.unsqueeze(1)\n",
    "        features = torch.tanh(features)\n",
    "        # Shape of `scores`: (`batch_size`, no. of queries, no. of key-value pairs)\n",
    "        scores = self.w_v(features).squeeze(-1)\n",
    "        self.attention_weights = masked_softmax(scores, valid_lens)\n",
    "        # Output shape: (`batch_size`, no. of queries, `value_size`)\n",
    "        return torch.bmm(self.dropout(self.attention_weights), values)"
   ]
  },
  {
   "cell_type": "markdown",
   "metadata": {},
   "source": [
    "## 缩放点积注意力\n",
    "\n",
    "使用点积可以得到计算效率更高的评分函数，但是点积操作需要查询和键具有相同的长度 $d$。\n",
    "\n",
    "假设查询和键的元素都是独立的随机变量，均值为0方差为1，那么两个向量的点积均值为0方差为 $d$。为了确保无论向量长度如何，注意力评分的方差均为1，点积需除以 $\\sqrt{d}$：\n",
    "\n",
    "$$a(\\mathbf{q}, \\mathbf{k}) = \\frac{\\mathbf{q}^{T}\\mathbf{k}}{\\sqrt{d}}$$\n",
    "\n",
    "从小批量的角度，假设有 $n$ 个查询 $\\mathbf{Q}\\in\\mathbb{R}^{n\\times{d}}$，$m$ 个键-值对  $\\mathbf{K}\\in\\mathbb{R}^{m\\times{d}}, \\mathbf{V}\\in\\mathbb{R}^{m\\times{v}}$，缩放点积注意力为：\n",
    "\n",
    "$$\\mathrm{softmax}\\left(\\frac{\\mathbf{Q}\\mathbf{K}^{T}}{\\sqrt{d}}\\right)\\mathbf{V} \\in \\mathbb{R}^{n\\times{v}}$$"
   ]
  },
  {
   "cell_type": "code",
   "execution_count": 3,
   "metadata": {},
   "outputs": [],
   "source": [
    "#@save\n",
    "class DotProductAttention(nn.Module):\n",
    "    \"\"\"缩放点积注意力\"\"\"\n",
    "    def __init__(self, dropout):\n",
    "        super(DotProductAttention, self).__init__()\n",
    "        self.dropout = nn.Dropout(dropout)\n",
    "\n",
    "    def forward(self, queries, keys, values, valid_lens=None):\n",
    "        # Shape of queries: (`batch_size`, no. of queries, `d`)\n",
    "        # Shape of keys: (`batch_size`, no. of key-value pairs, `d`)\n",
    "        # Shape of values: (`batch_size`, no. of key-value pairs, `value_size`)\n",
    "        # Shape of valid_lens: (`batch_size`,) or (`batch_size`, no. of queries)\n",
    "        d = queries.shape[-1]\n",
    "        # Shape of `scores`: (`batch_size`, no. of queries, no. of key-value pairs)\n",
    "        scores = torch.bmm(queries, keys.transpose(1, 2)) / math.sqrt(d)\n",
    "        self.attention_weights = masked_softmax(scores, valid_lens)\n",
    "        # Output shape: (`batch_size`, no. of queries, `value_size`)\n",
    "        return torch.bmm(self.dropout(self.attention_weights), values)"
   ]
  },
  {
   "cell_type": "code",
   "execution_count": null,
   "metadata": {},
   "outputs": [],
   "source": []
  }
 ],
 "metadata": {
  "kernelspec": {
   "display_name": "Python 3",
   "language": "python",
   "name": "python3"
  },
  "language_info": {
   "codemirror_mode": {
    "name": "ipython",
    "version": 3
   },
   "file_extension": ".py",
   "mimetype": "text/x-python",
   "name": "python",
   "nbconvert_exporter": "python",
   "pygments_lexer": "ipython3",
   "version": "3.8.3"
  }
 },
 "nbformat": 4,
 "nbformat_minor": 4
}

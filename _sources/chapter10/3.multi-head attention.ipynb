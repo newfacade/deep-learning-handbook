{
 "cells": [
  {
   "cell_type": "markdown",
   "metadata": {},
   "source": [
    "# Multi-Head Attention\n",
    "\n",
    "In multi-head attention, queries, keys, and values are transformed with  $h$  independently learned linear projections. \n",
    "\n",
    "These  $h$  projected queries, keys, and values are fed into attention pooling in parallel. \n",
    "\n",
    "In the end,  $h$ outputs are concatenated and transformed with another learned linear projection to produce the final output.\n",
    "\n",
    "![jupyter](../images/10/multi-head-attention.svg)\n",
    "\n",
    "Mathematically, given a query  $\\mathbf{q}\\in\\mathbb{R}^{d_q}$ , a key  $\\mathbf{k}\\in\\mathbb{R}^{d_k}$ , and a value  $\\mathbf{v}\\in\\mathbb{R}^{d_v}$ , each attention head  $\\mathbf{h}_{i}(i=1,...,h)$ is computed as:\n",
    "\n",
    "$$\\mathbf{h}_{i} = f(\\mathbf{W}_{i}^{(q)}\\mathbf{q}, \\mathbf{W}_{i}^{(k)}\\mathbf{k}, \\mathbf{W}_{i}^{(v)}\\mathbf{v}) \\in \\mathbb{R}^{p_v}$$\n",
    "\n",
    "where $\\mathbf{W}_{i}^{(q)}\\in\\mathbb{R}^{p_{q}\\times{d_{q}}}$ ,  $\\mathbf{W}_{i}^{(k)}\\in\\mathbb{R}^{p_{k}\\times{d_{k}}}$ ,  $\\mathbf{W}_{i}^{(v)}\\in\\mathbb{R}^{p_{v}\\times{d_{v}}}$  and  $f$  is attention pooling.\n",
    "\n",
    "The multi-head attention output is another linear transformation via learnable parameters  $\\mathbf{W}_{o}\\in\\mathbb{R}^{p_{o}\\times{h{p_v}}}$:\n",
    "\n",
    "$$\\mathbf{W}_{o}\\begin{bmatrix}\n",
    " \\mathbf{h}_{1}\\\\\n",
    " \\vdots \\\\\n",
    "\\mathbf{h}_{h}\n",
    "\\end{bmatrix}\\in\\mathbb{R}^{p_{o}}$$\n",
    "\n",
    "In our implementation, we choose the scaled dot-product attention and set  $p_{q}=p_{k}=p_{v}=\\frac{p_{o}}{h}$."
   ]
  },
  {
   "cell_type": "markdown",
   "metadata": {},
   "source": [
    "## Implementation"
   ]
  },
  {
   "cell_type": "code",
   "execution_count": 1,
   "metadata": {},
   "outputs": [],
   "source": [
    "import torch\n",
    "from torch import nn\n",
    "import d2l"
   ]
  },
  {
   "cell_type": "code",
   "execution_count": 2,
   "metadata": {},
   "outputs": [],
   "source": [
    "#@save\n",
    "class MultiHeadAttention(nn.Module):\n",
    "    def __init__(self, key_size, query_size, value_size, num_hiddens,\n",
    "                 num_heads, dropout, bias=False):\n",
    "        super(MultiHeadAttention, self).__init__()\n",
    "        self.num_heads = num_heads\n",
    "        self.attention = d2l.DotProductAttention(dropout)\n",
    "        # `num_hiddens` % `num_heads` == 0\n",
    "        self.W_q = nn.Linear(query_size, num_hiddens, bias=bias)\n",
    "        self.W_k = nn.Linear(key_size, num_hiddens, bias=bias)\n",
    "        self.W_v = nn.Linear(value_size, num_hiddens, bias=bias)\n",
    "        self.W_o = nn.Linear(num_hiddens, num_hiddens, bias=bias)\n",
    "\n",
    "    def forward(self, queries, keys, values, valid_lens):\n",
    "        # Shape of `queries`, `keys`, or `values`:\n",
    "        # (`batch_size`, no. of queries or key-value pairs, `num_hiddens`)\n",
    "        # Shape of `valid_lens`:\n",
    "        # (`batch_size`,) or (`batch_size`, no. of queries)\n",
    "        # After transposing, shape of output `queries`, `keys`, or `values`:\n",
    "        # (`batch_size` * `num_heads`, no. of queries or key-value pairs, `num_hiddens` / `num_heads`)\n",
    "        queries = transpose_qkv(self.W_q(queries), self.num_heads)\n",
    "        keys = transpose_qkv(self.W_k(keys), self.num_heads)\n",
    "        values = transpose_qkv(self.W_v(values), self.num_heads)\n",
    "\n",
    "        if valid_lens is not None:\n",
    "            valid_lens = torch.repeat_interleave(valid_lens,\n",
    "                                                 repeats=self.num_heads, dim=0)\n",
    "\n",
    "        # Shape of `output`: (`batch_size` * `num_heads`, no. of queries, `num_hiddens` / `num_heads`)\n",
    "        output = self.attention(queries, keys, values, valid_lens)\n",
    "\n",
    "        # Shape of `output_concat`: (`batch_size`, no. of queries, `num_hiddens`)\n",
    "        output_concat = transpose_output(output, self.num_heads)\n",
    "        return self.W_o(output_concat)"
   ]
  },
  {
   "cell_type": "code",
   "execution_count": 3,
   "metadata": {},
   "outputs": [],
   "source": [
    "#@save\n",
    "def transpose_qkv(X, num_heads):\n",
    "    # Shape of input `X`:\n",
    "    # (`batch_size`, no. of queries or key-value pairs, `num_hiddens`).\n",
    "    # Shape of output `X`:\n",
    "    # (`batch_size`, no. of queries or key-value pairs, `num_heads`,\n",
    "    # `num_hiddens` / `num_heads`)\n",
    "    X = X.reshape(X.shape[0], X.shape[1], num_heads, -1)\n",
    "\n",
    "    # Shape of output `X`:\n",
    "    # (`batch_size`, `num_heads`, no. of queries or key-value pairs,\n",
    "    # `num_hiddens` / `num_heads`)\n",
    "    X = X.permute(0, 2, 1, 3)\n",
    "\n",
    "    # Shape of `output`:\n",
    "    # (`batch_size` * `num_heads`, no. of queries or key-value pairs,\n",
    "    # `num_hiddens` / `num_heads`)\n",
    "    return X.reshape(-1, X.shape[2], X.shape[3])\n",
    "\n",
    "#@save\n",
    "def transpose_output(X, num_heads):\n",
    "    \"\"\"Reverse the operation of `transpose_qkv`\"\"\"\n",
    "    X = X.reshape(-1, num_heads, X.shape[1], X.shape[2])\n",
    "    X = X.permute(0, 2, 1, 3)\n",
    "    return X.reshape(X.shape[0], X.shape[1], -1)"
   ]
  },
  {
   "cell_type": "markdown",
   "metadata": {},
   "source": [
    "## Self-Attention\n",
    "\n",
    "Given a sequence of input tokens  $\\mathbf{x}_{1},...,\\mathbf{x}_{n}$  where any  $\\mathbf{x}_{i}\\in\\mathbb{R}^{d}$, its self-attention outputs a sequence of the same length  $\\mathbf{y}_{1},...,\\mathbf{y}_{n}$ , where\n",
    "\n",
    "$$\\mathbf{y}_{i}=f(\\mathbf{x}_{i},(\\mathbf{x}_{1},\\mathbf{x}_{1}),...,(\\mathbf{x}_{n},\\mathbf{x}_{n}))$$"
   ]
  },
  {
   "cell_type": "code",
   "execution_count": 4,
   "metadata": {},
   "outputs": [],
   "source": [
    "num_hiddens, num_heads = 100, 5\n",
    "# Suppose: `d` = `num_hiddens`\n",
    "attention = d2l.MultiHeadAttention(num_hiddens, num_hiddens, num_hiddens,\n",
    "                                   num_hiddens, num_heads, 0.5)"
   ]
  },
  {
   "cell_type": "code",
   "execution_count": 5,
   "metadata": {},
   "outputs": [
    {
     "data": {
      "text/plain": [
       "torch.Size([2, 4, 100])"
      ]
     },
     "execution_count": 5,
     "metadata": {},
     "output_type": "execute_result"
    }
   ],
   "source": [
    "attention.eval()\n",
    "batch_size, num_queries, valid_lens = 2, 4, torch.tensor([3, 2])\n",
    "X = torch.ones((batch_size, num_queries, num_hiddens))\n",
    "attention(X, X, X, valid_lens).shape"
   ]
  }
 ],
 "metadata": {
  "kernelspec": {
   "display_name": "Python 3",
   "language": "python",
   "name": "python3"
  },
  "language_info": {
   "codemirror_mode": {
    "name": "ipython",
    "version": 3
   },
   "file_extension": ".py",
   "mimetype": "text/x-python",
   "name": "python",
   "nbconvert_exporter": "python",
   "pygments_lexer": "ipython3",
   "version": "3.8.3"
  }
 },
 "nbformat": 4,
 "nbformat_minor": 4
}

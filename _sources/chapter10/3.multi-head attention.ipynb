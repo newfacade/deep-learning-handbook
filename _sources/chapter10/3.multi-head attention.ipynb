{
 "cells": [
  {
   "cell_type": "markdown",
   "metadata": {},
   "source": [
    "# 多头注意力\n",
    "\n",
    "```{note}\n",
    "在实践中，当给定相同的查询、键和值的集合时，我们希望模型可以基于相同的注意力机制学习到不同的行为，然后将不同的行为作为知识组合起来。\n",
    "```"
   ]
  },
  {
   "cell_type": "markdown",
   "metadata": {},
   "source": [
    "## 模型\n",
    "\n",
    "多头注意力首先用独立学习得到的 $h$ 组不同的线性投影（linear projections）来变换查询、键和值。\n",
    "\n",
    "然后这 $h$ 组变换后的查询、键和值将并行地送到注意力汇聚中。\n",
    "\n",
    "最后将这 $h$ 个注意力汇聚拼接在一起，经过另一个线性投影产生最终的输出。\n",
    "\n",
    "![jupyter](../images/10/multi-head-attention.svg)\n",
    "\n",
    "让我们用数学的语言将这个模型描述出来。给定查询 $\\mathbf{q}\\in\\mathbb{R}^{d_q}$、键 $\\mathbf{k}\\in\\mathbb{R}^{d_k}$ 和值 $\\mathbf{v}\\in\\mathbb{R}^{d_v}$，每个注意力头 $\\mathbf{h}_{i}(i=1,...,h)$ 的计算方法为：\n",
    "\n",
    "$$\\mathbf{h}_{i} = f(\\mathbf{W}_{i}^{(q)}\\mathbf{q}, \\mathbf{W}_{i}^{(k)}\\mathbf{k}, \\mathbf{W}_{i}^{(v)}\\mathbf{v}) \\in \\mathbb{R}^{p_v}$$\n",
    "\n",
    "其中可学习的参数包括 $\\mathbf{W}_{i}^{(q)}\\in\\mathbb{R}^{p_{q}\\times{d_{q}}}$ ,  $\\mathbf{W}_{i}^{(k)}\\in\\mathbb{R}^{p_{k}\\times{d_{k}}}$ ,  $\\mathbf{W}_{i}^{(v)}\\in\\mathbb{R}^{p_{v}\\times{d_{v}}}$  和注意汇聚函数  $f$，$f$ 可以是加性注意力或是缩放点积注意力。\n",
    "\n",
    "最后把 $h$ 个头连接后的进行线性变换：\n",
    "\n",
    "$$\\mathbf{W}_{o}\\begin{bmatrix}\n",
    " \\mathbf{h}_{1}\\\\\n",
    " \\vdots \\\\\n",
    "\\mathbf{h}_{h}\n",
    "\\end{bmatrix}\\in\\mathbb{R}^{p_{o}}$$\n",
    "\n",
    "其中可学习的参数是 $\\mathbf{W}_{o}\\in\\mathbb{R}^{p_{o}\\times{h{p_v}}}$。"
   ]
  },
  {
   "cell_type": "markdown",
   "metadata": {},
   "source": [
    "## 实现\n",
    "\n",
    "在实现过程中，我们使用缩放点积注意力作为每一个注意力头。为简单起见，我们设定 $p_{q}=p_{k}=p_{v}=\\frac{p_{o}}{h}$。"
   ]
  },
  {
   "cell_type": "code",
   "execution_count": 1,
   "metadata": {},
   "outputs": [],
   "source": [
    "import torch\n",
    "from torch import nn\n",
    "import d2l\n",
    "\n",
    "\n",
    "#@save\n",
    "class MultiHeadAttention(nn.Module):\n",
    "    \"\"\"多头注意力\"\"\"\n",
    "    def __init__(self, key_size, query_size, value_size, num_hiddens,\n",
    "                 num_heads, dropout, bias=False):\n",
    "        super(MultiHeadAttention, self).__init__()\n",
    "        self.num_heads = num_heads\n",
    "        self.attention = d2l.DotProductAttention(dropout)\n",
    "        # `num_heads`个线性变换拼接起来，所以`num_hiddens`应可以整除`num_heads`\n",
    "        self.W_q = nn.Linear(query_size, num_hiddens, bias=bias)\n",
    "        self.W_k = nn.Linear(key_size, num_hiddens, bias=bias)\n",
    "        self.W_v = nn.Linear(value_size, num_hiddens, bias=bias)\n",
    "        self.W_o = nn.Linear(num_hiddens, num_hiddens, bias=bias)\n",
    "\n",
    "    def forward(self, queries, keys, values, valid_lens):\n",
    "        # Shape of `queries`, `keys`, or `values`:\n",
    "        # (`batch_size`, no. of queries or key-value pairs, `num_hiddens`)\n",
    "        # Shape of `valid_lens`:\n",
    "        # (`batch_size`,) or (`batch_size`, no. of queries)\n",
    "        # After transposing, shape of output `queries`, `keys`, or `values`:\n",
    "        # (`batch_size` * `num_heads`, no. of queries or key-value pairs, `num_hiddens` / `num_heads`)\n",
    "        queries = transpose_qkv(self.W_q(queries), self.num_heads)\n",
    "        keys = transpose_qkv(self.W_k(keys), self.num_heads)\n",
    "        values = transpose_qkv(self.W_v(values), self.num_heads)\n",
    "\n",
    "        if valid_lens is not None:\n",
    "            valid_lens = torch.repeat_interleave(valid_lens,\n",
    "                                                 repeats=self.num_heads, dim=0)\n",
    "\n",
    "        # Shape of `output`: (`batch_size` * `num_heads`, no. of queries, `num_hiddens` / `num_heads`)\n",
    "        output = self.attention(queries, keys, values, valid_lens)\n",
    "\n",
    "        # Shape of `output_concat`: (`batch_size`, no. of queries, `num_hiddens`)\n",
    "        output_concat = transpose_output(output, self.num_heads)\n",
    "        return self.W_o(output_concat)"
   ]
  },
  {
   "cell_type": "code",
   "execution_count": 2,
   "metadata": {},
   "outputs": [],
   "source": [
    "#@save\n",
    "def transpose_qkv(X, num_heads):\n",
    "    \"\"\"改变X的shape\"\"\"\n",
    "    # Shape of input `X`:\n",
    "    # (`batch_size`, no. of queries or key-value pairs, `num_hiddens`).\n",
    "    # Shape of output `X`:\n",
    "    # (`batch_size`, no. of queries or key-value pairs, `num_heads`,\n",
    "    # `num_hiddens` / `num_heads`)\n",
    "    X = X.reshape(X.shape[0], X.shape[1], num_heads, -1)\n",
    "\n",
    "    # Shape of output `X`:\n",
    "    # (`batch_size`, `num_heads`, no. of queries or key-value pairs,\n",
    "    # `num_hiddens` / `num_heads`)\n",
    "    X = X.permute(0, 2, 1, 3)\n",
    "\n",
    "    # Shape of `output`:\n",
    "    # (`batch_size` * `num_heads`, no. of queries or key-value pairs,\n",
    "    # `num_hiddens` / `num_heads`)\n",
    "    return X.reshape(-1, X.shape[2], X.shape[3])\n",
    "\n",
    "#@save\n",
    "def transpose_output(X, num_heads):\n",
    "    \"\"\"逆转`transpose_qkv`的操作\"\"\"\n",
    "    X = X.reshape(-1, num_heads, X.shape[1], X.shape[2])\n",
    "    X = X.permute(0, 2, 1, 3)\n",
    "    return X.reshape(X.shape[0], X.shape[1], -1)"
   ]
  },
  {
   "cell_type": "markdown",
   "metadata": {},
   "source": [
    "## 自注意力\n",
    "\n",
    "给定一个词元组成的输入序列 $\\mathbf{x}_{1},...,\\mathbf{x}_{n}$，其中 $\\mathbf{x}_{i}\\in\\mathbb{R}^{d}$。\n",
    "\n",
    "改序列的自注意力输出一个长度相同的序列 $\\mathbf{y}_{1},...,\\mathbf{y}_{n}$，其中：\n",
    "\n",
    "$$\\mathbf{y}_{i}=f(\\mathbf{x}_{i},(\\mathbf{x}_{1},\\mathbf{x}_{1}),...,(\\mathbf{x}_{n},\\mathbf{x}_{n}))$$"
   ]
  },
  {
   "cell_type": "code",
   "execution_count": 3,
   "metadata": {},
   "outputs": [
    {
     "data": {
      "text/plain": [
       "MultiHeadAttention(\n",
       "  (attention): DotProductAttention(\n",
       "    (dropout): Dropout(p=0.5, inplace=False)\n",
       "  )\n",
       "  (W_q): Linear(in_features=100, out_features=100, bias=False)\n",
       "  (W_k): Linear(in_features=100, out_features=100, bias=False)\n",
       "  (W_v): Linear(in_features=100, out_features=100, bias=False)\n",
       "  (W_o): Linear(in_features=100, out_features=100, bias=False)\n",
       ")"
      ]
     },
     "execution_count": 3,
     "metadata": {},
     "output_type": "execute_result"
    }
   ],
   "source": [
    "num_hiddens, num_heads = 100, 5\n",
    "# 这里 `d` = `num_hiddens`\n",
    "attention = d2l.MultiHeadAttention(num_hiddens, num_hiddens, num_hiddens,\n",
    "                                   num_hiddens, num_heads, 0.5)\n",
    "attention.eval()"
   ]
  },
  {
   "cell_type": "code",
   "execution_count": 4,
   "metadata": {},
   "outputs": [
    {
     "data": {
      "text/plain": [
       "torch.Size([2, 4, 100])"
      ]
     },
     "execution_count": 4,
     "metadata": {},
     "output_type": "execute_result"
    }
   ],
   "source": [
    "batch_size, num_queries, valid_lens = 2, 4, torch.tensor([3, 2])\n",
    "X = torch.ones((batch_size, num_queries, num_hiddens))\n",
    "# 形状相同\n",
    "attention(X, X, X, valid_lens).shape"
   ]
  }
 ],
 "metadata": {
  "kernelspec": {
   "display_name": "Python 3",
   "language": "python",
   "name": "python3"
  },
  "language_info": {
   "codemirror_mode": {
    "name": "ipython",
    "version": 3
   },
   "file_extension": ".py",
   "mimetype": "text/x-python",
   "name": "python",
   "nbconvert_exporter": "python",
   "pygments_lexer": "ipython3",
   "version": "3.8.3"
  }
 },
 "nbformat": 4,
 "nbformat_minor": 4
}

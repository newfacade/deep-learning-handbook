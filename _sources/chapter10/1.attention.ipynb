{
 "cells": [
  {
   "cell_type": "markdown",
   "metadata": {},
   "source": [
    "# Attention\n",
    "\n",
    "The ability of paying **attention** to only a small fraction of the information has evolutionary significance, allowing human beings to live and succeed.\n",
    "\n",
    "We can model this **attention** through the query, keys and values mechanisms.\n",
    "\n",
    "![jupyter](../images/10/qkv.svg)"
   ]
  },
  {
   "cell_type": "markdown",
   "metadata": {},
   "source": [
    "## Nadaraya-Watson Kernel Regression\n",
    "\n",
    "Given a dataset $\\left\\{(x_{1},y_{1}),...,(x_{n},y_{n})\\right\\}$, where $x_{i} \\in \\mathbb{R}, y_{i} \\in \\mathbb{R}$, how to learn $f$ to predict the output $\\hat{y}=f(x)$ for any new input $x$?\n",
    "\n",
    "The \"dumbest\" estimator for this regression problem:\n",
    "\n",
    "$$f(x)= \\frac{1}{n}\\sum_{i=1}^{n}y_{i}$$\n",
    "\n",
    "![jupyter](../images/10/nadaraya-waston-1.svg)\n",
    "\n",
    "Nadaraya-watson kernal regression evaluate the connection between $x$ and $x_{i}$ by a positive function $K(x,x_{i})$, then uses weighted average:\n",
    "\n",
    "$$f(x) = \\sum_{i=1}^{n}\\frac{K(x, x_{i})}{\\sum_{j=1}^{n}K(x, x_{j})}y_{i}$$\n",
    "\n",
    "to illustrate, just consider guassian kernel:\n",
    "\n",
    "$$K(u) = \\frac{1}{\\sqrt{2\\pi}}\\exp(-\\frac{u^2}{2})$$\n",
    "\n",
    "in this setting:\n",
    "\n",
    "$$f(x) = \\sum_{i=1}^{n}\\frac{\\exp(-\\frac{1}{2}(x - x_{i})^{2})}{\\sum_{j=1}^{n}\\exp(-\\frac{1}{2}(x - x_{j})^{2})}y_{i} = \\sum_{i=1}^{n}\\mathrm{softmax}\\left(-\\frac{1}{2}(x - x_{i})^{2}\\right)y_{i}$$\n",
    "\n",
    "![jupyter](../images/10/nadaraya-waston-2.svg)"
   ]
  },
  {
   "cell_type": "code",
   "execution_count": null,
   "metadata": {},
   "outputs": [],
   "source": []
  }
 ],
 "metadata": {
  "kernelspec": {
   "display_name": "Python 3",
   "language": "python",
   "name": "python3"
  },
  "language_info": {
   "codemirror_mode": {
    "name": "ipython",
    "version": 3
   },
   "file_extension": ".py",
   "mimetype": "text/x-python",
   "name": "python",
   "nbconvert_exporter": "python",
   "pygments_lexer": "ipython3",
   "version": "3.8.3"
  }
 },
 "nbformat": 4,
 "nbformat_minor": 4
}

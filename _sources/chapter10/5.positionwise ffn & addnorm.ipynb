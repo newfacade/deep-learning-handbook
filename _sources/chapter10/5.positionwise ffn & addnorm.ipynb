{
 "cells": [
  {
   "cell_type": "markdown",
   "metadata": {},
   "source": [
    "# Positionwise FFN & AddNorm\n",
    "\n",
    "Transformer is an instance of the encoder-decoder architecture:\n",
    "\n",
    "![jupyter](../images/10/transformer.svg)\n",
    "\n",
    "We have already described multi-head attention and positional encoding before.\n",
    "\n",
    "In the following, we will show the other components of the transformer model."
   ]
  },
  {
   "cell_type": "markdown",
   "metadata": {},
   "source": [
    "## Positionwise Feed-Forward Network\n",
    "\n",
    "Positionwise FFN transforms the representation at all the sequance positions using the same MLP."
   ]
  },
  {
   "cell_type": "code",
   "execution_count": 1,
   "metadata": {},
   "outputs": [],
   "source": [
    "import torch\n",
    "from torch import nn"
   ]
  },
  {
   "cell_type": "code",
   "execution_count": 2,
   "metadata": {},
   "outputs": [],
   "source": [
    "#@save\n",
    "class PositionWiseFFN(nn.Module):\n",
    "    def __init__(self, ffn_num_input, ffn_num_hiddens):\n",
    "        super(PositionWiseFFN, self).__init__()\n",
    "        self.dense1 = nn.Linear(ffn_num_input, ffn_num_hiddens)\n",
    "        self.relu = nn.ReLU()\n",
    "        self.dense2 = nn.Linear(ffn_num_hiddens, ffn_num_input)\n",
    "\n",
    "    def forward(self, X):\n",
    "        \"\"\"\n",
    "        X shape: (batch_size, seq_len, ffn_num_input)\n",
    "        \"\"\"\n",
    "        return self.dense2(self.relu(self.dense1(X)))"
   ]
  },
  {
   "cell_type": "code",
   "execution_count": 3,
   "metadata": {},
   "outputs": [
    {
     "data": {
      "text/plain": [
       "tensor([[[ 0.2890,  0.0860, -0.2614,  0.1723],\n",
       "         [ 0.2890,  0.0860, -0.2614,  0.1723],\n",
       "         [ 0.2890,  0.0860, -0.2614,  0.1723]],\n",
       "\n",
       "        [[ 0.2890,  0.0860, -0.2614,  0.1723],\n",
       "         [ 0.2890,  0.0860, -0.2614,  0.1723],\n",
       "         [ 0.2890,  0.0860, -0.2614,  0.1723]]], grad_fn=<AddBackward0>)"
      ]
     },
     "execution_count": 3,
     "metadata": {},
     "output_type": "execute_result"
    }
   ],
   "source": [
    "ffn = PositionWiseFFN(4, 8)\n",
    "ffn.eval()\n",
    "ffn(torch.ones((2, 3, 4)))"
   ]
  },
  {
   "cell_type": "markdown",
   "metadata": {},
   "source": [
    "## Add & Norm\n",
    "\n",
    "Layer normalization: e.g. each sample is normalized.\n",
    "\n",
    "Batch normalization: e.g. each feature is normalized."
   ]
  },
  {
   "cell_type": "code",
   "execution_count": 4,
   "metadata": {},
   "outputs": [
    {
     "name": "stdout",
     "output_type": "stream",
     "text": [
      "layer norm: tensor([[-1.2247,  0.0000,  1.2247],\n",
      "        [-1.2247,  0.0000,  1.2247]], grad_fn=<NativeLayerNormBackward>) \n",
      "batch norm: tensor([[-1.0000, -1.0000, -1.0000],\n",
      "        [ 1.0000,  1.0000,  1.0000]], grad_fn=<NativeBatchNormBackward>)\n"
     ]
    }
   ],
   "source": [
    "ln = nn.LayerNorm(3)\n",
    "bn = nn.BatchNorm1d(3)\n",
    "X = torch.tensor([[1, 2, 3], [4, 6, 8]], dtype=torch.float32)\n",
    "print('layer norm:', ln(X), '\\nbatch norm:', bn(X))"
   ]
  },
  {
   "cell_type": "code",
   "execution_count": 5,
   "metadata": {},
   "outputs": [],
   "source": [
    "#@save\n",
    "class AddNorm(nn.Module):\n",
    "    \"\"\"a residual connection followed by layer normalization.\"\"\"\n",
    "    def __init__(self, normalized_shape, dropout):\n",
    "        super(AddNorm, self).__init__()\n",
    "        self.dropout = nn.Dropout(dropout)\n",
    "        self.ln = nn.LayerNorm(normalized_shape)\n",
    "\n",
    "    def forward(self, X, Y):\n",
    "        \"\"\"\n",
    "        X shape: (N, normalized_shape)\n",
    "        The mean and standard-deviation are calculated separately over the last certain number dimensions\n",
    "        which have to be of the shape specified by normalized_shape\n",
    "        ln(X) = (X - E(X)) / sqrt(Var(X) + eps) * gamma + beta\n",
    "        gamma and beta are normalized_shape learned parameters\n",
    "        \"\"\"\n",
    "        return self.ln(self.dropout(Y) + X)"
   ]
  },
  {
   "cell_type": "code",
   "execution_count": 6,
   "metadata": {},
   "outputs": [
    {
     "data": {
      "text/plain": [
       "torch.Size([2, 3, 4])"
      ]
     },
     "execution_count": 6,
     "metadata": {},
     "output_type": "execute_result"
    }
   ],
   "source": [
    "add_norm = AddNorm([3, 4], 0.5)\n",
    "add_norm.eval()\n",
    "add_norm(torch.ones((2, 3, 4)), torch.ones((2, 3, 4))).shape"
   ]
  },
  {
   "cell_type": "code",
   "execution_count": null,
   "metadata": {},
   "outputs": [],
   "source": []
  }
 ],
 "metadata": {
  "kernelspec": {
   "display_name": "Python 3",
   "language": "python",
   "name": "python3"
  },
  "language_info": {
   "codemirror_mode": {
    "name": "ipython",
    "version": 3
   },
   "file_extension": ".py",
   "mimetype": "text/x-python",
   "name": "python",
   "nbconvert_exporter": "python",
   "pygments_lexer": "ipython3",
   "version": "3.8.3"
  }
 },
 "nbformat": 4,
 "nbformat_minor": 4
}

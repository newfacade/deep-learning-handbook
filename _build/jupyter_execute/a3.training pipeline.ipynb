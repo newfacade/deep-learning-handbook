{
 "cells": [
  {
   "cell_type": "markdown",
   "metadata": {},
   "source": [
    "# 图像分类 Pipeline\n",
    "\n",
    "```{note}\n",
    "图像分类的pipeline都是类似的，只是模型不同<br/>\n",
    "所以我们可以先定义好训练图像分类的函数，模型作为其参数\n",
    "```"
   ]
  },
  {
   "cell_type": "markdown",
   "metadata": {},
   "source": [
    "## 一些辅助函数和类"
   ]
  },
  {
   "cell_type": "code",
   "execution_count": 1,
   "metadata": {},
   "outputs": [],
   "source": [
    "import torch\n",
    "import d2l\n",
    "\n",
    "\n",
    "#@save\n",
    "def try_gpu():\n",
    "    \"\"\"尽量使用gpu\"\"\"\n",
    "    return torch.device(\"cuda\") if torch.cuda.is_available() else torch.device(\"cpu\")"
   ]
  },
  {
   "cell_type": "code",
   "execution_count": 2,
   "metadata": {},
   "outputs": [],
   "source": [
    "#@save\n",
    "class Accumulator:\n",
    "    \"\"\"累计n个数据\"\"\"\n",
    "    \n",
    "    def __init__(self, n):\n",
    "        self.data = [0.0] * n\n",
    "\n",
    "    def add(self, *args):\n",
    "        self.data = [a + float(b) for a, b in zip(self.data, args)]\n",
    "\n",
    "    def reset(self):\n",
    "        self.data = [0.0] * len(self.data)\n",
    "\n",
    "    def __getitem__(self, idx):\n",
    "        return self.data[idx]"
   ]
  },
  {
   "cell_type": "code",
   "execution_count": 3,
   "metadata": {},
   "outputs": [],
   "source": [
    "#@save\n",
    "def correct_predictions(y_hat, y):\n",
    "    \"\"\"\n",
    "    :param y_hat: (n_samples, n_categories)\n",
    "    :param y: (n_samples, )\n",
    "    :return: 正确预测的个数\n",
    "    \"\"\"\n",
    "    y_hat = y_hat.argmax(axis=1)  # across columns\n",
    "    is_correct = y_hat.type(y.dtype) == y\n",
    "    return float(is_correct.type(y.dtype).sum())"
   ]
  },
  {
   "cell_type": "code",
   "execution_count": 4,
   "metadata": {},
   "outputs": [],
   "source": [
    "#@save\n",
    "def accuracy(net, data_iter):\n",
    "    \"\"\"\n",
    "    :param net: 模型\n",
    "    :param data_iter: 图像分类数据集\n",
    "    :return: 模型的准确率，这里使用了Accumulator和correct_predictions\n",
    "    \"\"\"\n",
    "    net.eval()  # Set the model to evaluation mode\n",
    "    metric = d2l.Accumulator(2)  # No. of correct predictions, no. of predictions\n",
    "    for X, y in data_iter:\n",
    "        # y.numel()表示y中的数据数\n",
    "        metric.add(d2l.correct_predictions(net(X), y), y.numel())\n",
    "    return metric[0] / metric[1]"
   ]
  },
  {
   "cell_type": "markdown",
   "metadata": {},
   "source": [
    "## 动画\n",
    "\n",
    "为了让我们的训练过程更加直观，我们实现一个展示训练过程中各项数据动态变化的类"
   ]
  },
  {
   "cell_type": "code",
   "execution_count": 5,
   "metadata": {},
   "outputs": [],
   "source": [
    "from IPython import display\n",
    "import matplotlib.pyplot as plt\n",
    "\n",
    "\n",
    "#@save\n",
    "def use_svg_display():\n",
    "    \"\"\"使用svg格式\"\"\"\n",
    "    display.set_matplotlib_formats('svg')"
   ]
  },
  {
   "cell_type": "code",
   "execution_count": 6,
   "metadata": {},
   "outputs": [],
   "source": [
    "#@save\n",
    "def set_axes(axes, xlabel, ylabel, xlim, ylim, xscale, yscale, legend):\n",
    "    \"\"\"设置坐标轴\"\"\"\n",
    "    # 设置坐标标签\n",
    "    axes.set_xlabel(xlabel)\n",
    "    axes.set_ylabel(ylabel)\n",
    "    # 设置比例尺，{`linear`, `log`, ...}\n",
    "    axes.set_xscale(xscale)\n",
    "    axes.set_yscale(yscale)\n",
    "    # 设置x轴和y轴的显示范围\n",
    "    axes.set_xlim(xlim)\n",
    "    axes.set_ylim(ylim)\n",
    "    # 加上图例、网格\n",
    "    if legend:\n",
    "        axes.legend(legend)\n",
    "    axes.grid()"
   ]
  },
  {
   "cell_type": "code",
   "execution_count": 7,
   "metadata": {},
   "outputs": [],
   "source": [
    "#@save\n",
    "class Animator:\n",
    "    \"\"\"动态画折线图\"\"\"\n",
    "\n",
    "    def __init__(self, xlabel=None, ylabel=None, legend=None, xlim=None,\n",
    "                 ylim=None, xscale='linear', yscale='linear',\n",
    "                 fmts=('-', 'm--', 'g-.', 'r:'), figsize=(3.5, 2.5)):\n",
    "        \"\"\"参数都是 matplotlib 画图的参数\"\"\"\n",
    "        # 使用svg格式\n",
    "        d2l.use_svg_display()\n",
    "        # 获得画布和坐标轴\n",
    "        self.fig, self.axes = plt.subplots(figsize=figsize)\n",
    "        # config_axes() 即 d2l.set_axes(self.axes, xlabel, ylabel, xlim, ylim, xscale, yscale, legend)\n",
    "        self.config_axes = lambda: d2l.set_axes(self.axes, xlabel, ylabel, xlim, ylim, xscale, yscale, legend)\n",
    "        self.X, self.Y, self.fmts = None, None, fmts\n",
    "\n",
    "    def add(self, x, y):\n",
    "        \"\"\"Add multiple data points into the figure\"\"\"\n",
    "        if not hasattr(y, \"__len__\"):\n",
    "            y = [y]\n",
    "        # Total n curves\n",
    "        n = len(y)\n",
    "        if not hasattr(x, \"__len__\"):\n",
    "            x = [x] * n\n",
    "        # initialization\n",
    "        if not self.X:\n",
    "            self.X = [[] for _ in range(n)]\n",
    "        if not self.Y:\n",
    "            self.Y = [[] for _ in range(n)]\n",
    "        # 添加数据\n",
    "        for i, (a, b) in enumerate(zip(x, y)):\n",
    "                self.X[i].append(a)\n",
    "                self.Y[i].append(b)\n",
    "        self.axes.cla()  # 清除子图目前状态，防止重叠\n",
    "        for x, y, fmt in zip(self.X, self.Y, self.fmts):\n",
    "            self.axes.plot(x, y, fmt)\n",
    "        self.config_axes()\n",
    "        display.display(self.fig)\n",
    "        # 不是多图而是动态\n",
    "        display.clear_output(wait=True)"
   ]
  },
  {
   "cell_type": "markdown",
   "metadata": {},
   "source": [
    "## 训练图像分类的函数"
   ]
  },
  {
   "cell_type": "code",
   "execution_count": 8,
   "metadata": {},
   "outputs": [],
   "source": [
    "#@save\n",
    "def train_image_classifier(net, train_iter, test_iter, learning_rate, num_epochs):\n",
    "    \"\"\"\n",
    "    训练图像分类器，记录数据并以动画展示\n",
    "    e.g. training FashionMNIST\n",
    "    \"\"\"\n",
    "    device = d2l.try_gpu()\n",
    "    # 需模型和数据均转向device\n",
    "    net = net.to(device=device)\n",
    "    loss_fn = nn.CrossEntropyLoss()\n",
    "    optimizer = torch.optim.Adam(net.parameters(), lr=learning_rate)\n",
    "    # 记录误差和、正确预测样本数、总样本数\n",
    "    metric = d2l.Accumulator(3)\n",
    "    # 画训练误差、训练准确率、测试准确率\n",
    "    animator = d2l.Animator(xlabel=\"epoch\", xlim=[1, num_epochs],\n",
    "                            legend=[\"train_loss\", \"train_acc\", \"test_acc\"])\n",
    "    for epoch in range(num_epochs):\n",
    "        net.train()  # 因为计算accuracy会使net转向eval模式\n",
    "        metric.reset()\n",
    "        for x, y in train_iter:\n",
    "            # Compute prediction error\n",
    "            x, y = x.to(device), y.to(device)\n",
    "            y_hat = net(x)\n",
    "            loss = loss_fn(y_hat, y)\n",
    "            \n",
    "            # Backpropagation\n",
    "            optimizer.zero_grad()\n",
    "            loss.backward()\n",
    "            optimizer.step()\n",
    "            # 记录数据\n",
    "            metric.add(float(loss) * len(y), d2l.correct_predictions(y_hat, y), y.numel())\n",
    "        # 画图\n",
    "        animator.add(epoch + 1, \n",
    "                     (metric[0] / metric[2], metric[1] / metric[2], d2l.accuracy(net, test_iter)))\n",
    "    # 打印最终的数据\n",
    "    print(f\"loss {animator.Y[0][-1]:.3f}, \"\n",
    "          f\"train acc {animator.Y[1][-1]:3f}, \"\n",
    "          f\"test acc {animator.Y[2][-1]: 3f}\")"
   ]
  },
  {
   "cell_type": "markdown",
   "metadata": {},
   "source": [
    "CrossEntropyLoss的计算公式:\n",
    "\n",
    "$$\\mbox{loss}(x, class) = -\\mbox{log}\\left(\\frac{\\mbox{exp}(x[class])}{\\sum_{j}\\mbox{exp}(x[j])}\\right) = -x[class] + \\log\\left ({\\sum_{j}\\exp({x[j]})}\\right )$$"
   ]
  },
  {
   "cell_type": "code",
   "execution_count": null,
   "metadata": {},
   "outputs": [],
   "source": []
  }
 ],
 "metadata": {
  "kernelspec": {
   "display_name": "Python 3",
   "language": "python",
   "name": "python3"
  },
  "language_info": {
   "codemirror_mode": {
    "name": "ipython",
    "version": 3
   },
   "file_extension": ".py",
   "mimetype": "text/x-python",
   "name": "python",
   "nbconvert_exporter": "python",
   "pygments_lexer": "ipython3",
   "version": "3.8.3"
  }
 },
 "nbformat": 4,
 "nbformat_minor": 4
}